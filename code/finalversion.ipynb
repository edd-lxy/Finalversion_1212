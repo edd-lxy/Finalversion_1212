{
  "nbformat": 4,
  "nbformat_minor": 0,
  "metadata": {
    "colab": {
      "provenance": []
    },
    "kernelspec": {
      "name": "python3",
      "display_name": "Python 3"
    },
    "language_info": {
      "name": "python"
    }
  },
  "cells": [
    {
      "cell_type": "markdown",
      "source": [
        "First, clean and organize the /content folder and turn it into a git repository."
      ],
      "metadata": {
        "id": "eOdu_Q33SEOh"
      }
    },
    {
      "cell_type": "code",
      "source": [
        "# remove sample_data file \n",
        "%%bash\n",
        "rm -r sample_data\n",
        "ls"
      ],
      "metadata": {
        "id": "-PXJP63CSFQq"
      },
      "execution_count": 1,
      "outputs": []
    },
    {
      "cell_type": "code",
      "source": [
        "# create the .gitignore\n",
        "%%bash\n",
        "cat > .gitignore\n",
        ".*\n",
        ".gitignore"
      ],
      "metadata": {
        "id": "NR7to9wZSJZR"
      },
      "execution_count": 2,
      "outputs": []
    },
    {
      "cell_type": "code",
      "source": [
        "# set my own identity with git config\n",
        "%%bash\n",
        "git config --global user.email \"xli87898@usc.edu\"\n",
        "git config --global user.name \"edd-lxy\""
      ],
      "metadata": {
        "id": "7LZAlCRzSLqi"
      },
      "execution_count": 3,
      "outputs": []
    },
    {
      "cell_type": "code",
      "source": [
        "# turn the folder into git repository\n",
        "%%bash\n",
        "git init"
      ],
      "metadata": {
        "colab": {
          "base_uri": "https://localhost:8080/"
        },
        "id": "poyUterPSOCG",
        "outputId": "56dd1593-eaf3-4eb6-c905-b7272f81e29d"
      },
      "execution_count": 4,
      "outputs": [
        {
          "output_type": "stream",
          "name": "stdout",
          "text": [
            "Initialized empty Git repository in /content/.git/\n"
          ]
        }
      ]
    },
    {
      "cell_type": "markdown",
      "source": [
        "Create organized repository structure"
      ],
      "metadata": {
        "id": "BdmrnMRJSTlE"
      }
    },
    {
      "cell_type": "code",
      "source": [
        "# create subdirectories under /content folder\n",
        "%%bash\n",
        "mkdir startingData code results figures\n",
        "ls\n"
      ],
      "metadata": {
        "colab": {
          "base_uri": "https://localhost:8080/"
        },
        "id": "9zGij-Z3SQ5K",
        "outputId": "e036a630-19c2-4a6d-bce7-cb5f9041b874"
      },
      "execution_count": 5,
      "outputs": [
        {
          "output_type": "stream",
          "name": "stdout",
          "text": [
            "code\n",
            "figures\n",
            "results\n",
            "startingData\n"
          ]
        }
      ]
    },
    {
      "cell_type": "code",
      "source": [
        "# Create a README file inside the /content folder to demonstrate what this repository is for\n",
        "%%bash\n",
        "pwd\n",
        "cat > README.md\n",
        "startingData contains original Framingham heart study data csv file.\n",
        "code contains ipynb file that stores this ipynb file.\n",
        "results contains data manipulation and all the anaylyses.\n",
        "figures contains plots.\n"
      ],
      "metadata": {
        "colab": {
          "base_uri": "https://localhost:8080/"
        },
        "id": "zLachGJJSQ3G",
        "outputId": "2e3e997e-de84-4400-e754-64b974c845bf"
      },
      "execution_count": 6,
      "outputs": [
        {
          "output_type": "stream",
          "name": "stdout",
          "text": [
            "/content\n"
          ]
        }
      ]
    },
    {
      "cell_type": "code",
      "source": [
        "#  Create a README file in every subdirectory to demonstrate what it is for\n",
        "%%bash\n",
        "pwd\n",
        "cd startingData\n",
        "cat > README.md\n",
        "This subdirectory contains original Framingham Heart Study dataset without any data manipulation."
      ],
      "metadata": {
        "colab": {
          "base_uri": "https://localhost:8080/"
        },
        "id": "dXhJDOm6SQ0g",
        "outputId": "a68f91bd-77d7-425d-e505-ab78701c864b"
      },
      "execution_count": 7,
      "outputs": [
        {
          "output_type": "stream",
          "name": "stdout",
          "text": [
            "/content\n"
          ]
        }
      ]
    },
    {
      "cell_type": "code",
      "source": [
        "%%bash\n",
        "pwd\n",
        "cd code\n",
        "cat > README.md\n",
        "This subdirectory contains code used inside this ipynb file, including the hypotheses tests"
      ],
      "metadata": {
        "colab": {
          "base_uri": "https://localhost:8080/"
        },
        "id": "bcts_aTkSQyZ",
        "outputId": "50acdda7-c007-4c29-f828-1473525ebf9a"
      },
      "execution_count": 8,
      "outputs": [
        {
          "output_type": "stream",
          "name": "stdout",
          "text": [
            "/content\n"
          ]
        }
      ]
    },
    {
      "cell_type": "code",
      "source": [
        "%%bash\n",
        "pwd\n",
        "cd results\n",
        "cat > README.md\n",
        "This subdirectory contains datasets with certaiin exclusion criteria.\n",
        "Smoke.csv file only contains participants who are current smokers.\n",
        "nonSmoke.csv file only contains participant who are non-smokers."
      ],
      "metadata": {
        "colab": {
          "base_uri": "https://localhost:8080/"
        },
        "id": "WKlkgj6cSQwD",
        "outputId": "4af1b12b-52f4-4bd4-a0c4-98d8a46c0ac4"
      },
      "execution_count": 9,
      "outputs": [
        {
          "output_type": "stream",
          "name": "stdout",
          "text": [
            "/content\n"
          ]
        }
      ]
    },
    {
      "cell_type": "code",
      "source": [
        "%%bash\n",
        "pwd\n",
        "cd figures\n",
        "cat > README.md\n",
        "This subdirectory contains histograms for studying the distribution of systolic blood pressure\n",
        "A combined plot is also included to study the summary and distribution statistics of systolic blood pressure."
      ],
      "metadata": {
        "colab": {
          "base_uri": "https://localhost:8080/"
        },
        "id": "FfvDJ_w5SQtt",
        "outputId": "6328bdfe-7c26-49cd-c2e2-36685803d1db"
      },
      "execution_count": 10,
      "outputs": [
        {
          "output_type": "stream",
          "name": "stdout",
          "text": [
            "/content\n"
          ]
        }
      ]
    },
    {
      "cell_type": "markdown",
      "source": [
        "After successfully completing the basic repo structure, now we start to import the dataset, then analyze it."
      ],
      "metadata": {
        "id": "94kf5JScS13D"
      }
    },
    {
      "cell_type": "code",
      "execution_count": 11,
      "metadata": {
        "id": "kK6-4p_XHE_O"
      },
      "outputs": [],
      "source": [
        "import pandas as pd\n",
        "import numpy as np"
      ]
    },
    {
      "cell_type": "code",
      "source": [
        "df = pd.read_csv('https://drive.google.com/uc?export=download&id=1zFxWLexV3XWVf6ix7CHUrUIwvAcG0xX2')"
      ],
      "metadata": {
        "id": "pnkES5rXpwML"
      },
      "execution_count": 12,
      "outputs": []
    },
    {
      "cell_type": "code",
      "source": [
        "df"
      ],
      "metadata": {
        "colab": {
          "base_uri": "https://localhost:8080/",
          "height": 488
        },
        "id": "KsT6YmZcr1T1",
        "outputId": "4244c16c-8bfd-45da-e546-9b13b24d8fbc"
      },
      "execution_count": 13,
      "outputs": [
        {
          "output_type": "execute_result",
          "data": {
            "text/plain": [
              "        RANDID  SEX  TOTCHOL  AGE  SYSBP  DIABP  CURSMOKE  CIGPDAY    BMI  \\\n",
              "0         2448    1    195.0   39  106.0   70.0         0      0.0  26.97   \n",
              "1         2448    1    209.0   52  121.0   66.0         0      0.0    NaN   \n",
              "2         6238    2    250.0   46  121.0   81.0         0      0.0  28.73   \n",
              "3         6238    2    260.0   52  105.0   69.5         0      0.0  29.43   \n",
              "4         6238    2    237.0   58  108.0   66.0         0      0.0  28.50   \n",
              "...        ...  ...      ...  ...    ...    ...       ...      ...    ...   \n",
              "11622  9998212    1    173.0   46  126.0   82.0         0      0.0  19.17   \n",
              "11623  9998212    1    153.0   52  143.0   89.0         0      0.0  25.74   \n",
              "11624  9999312    2    196.0   39  133.0   86.0         1     30.0  20.91   \n",
              "11625  9999312    2    240.0   46  138.0   79.0         1     20.0  26.39   \n",
              "11626  9999312    2      NaN   50  147.0   96.0         1     10.0  24.19   \n",
              "\n",
              "       DIABETES  ...  CVD  HYPERTEN  TIMEAP  TIMEMI  TIMEMIFC  TIMECHD  \\\n",
              "0             0  ...    1         0    8766    6438      6438     6438   \n",
              "1             0  ...    1         0    8766    6438      6438     6438   \n",
              "2             0  ...    0         0    8766    8766      8766     8766   \n",
              "3             0  ...    0         0    8766    8766      8766     8766   \n",
              "4             0  ...    0         0    8766    8766      8766     8766   \n",
              "...         ...  ...  ...       ...     ...     ...       ...      ...   \n",
              "11622         0  ...    0         1    8766    8766      8766     8766   \n",
              "11623         0  ...    0         1    8766    8766      8766     8766   \n",
              "11624         0  ...    0         1    8766    8766      8766     8766   \n",
              "11625         0  ...    0         1    8766    8766      8766     8766   \n",
              "11626         0  ...    0         1    8766    8766      8766     8766   \n",
              "\n",
              "       TIMESTRK  TIMECVD  TIMEDTH  TIMEHYP  \n",
              "0          8766     6438     8766     8766  \n",
              "1          8766     6438     8766     8766  \n",
              "2          8766     8766     8766     8766  \n",
              "3          8766     8766     8766     8766  \n",
              "4          8766     8766     8766     8766  \n",
              "...         ...      ...      ...      ...  \n",
              "11622      8766     8766     8766        0  \n",
              "11623      8766     8766     8766        0  \n",
              "11624      8766     8766     8766     4201  \n",
              "11625      8766     8766     8766     4201  \n",
              "11626      8766     8766     8766     4201  \n",
              "\n",
              "[11627 rows x 39 columns]"
            ],
            "text/html": [
              "\n",
              "  <div id=\"df-b12e4bb0-c015-4fdd-9367-2a74f5040507\">\n",
              "    <div class=\"colab-df-container\">\n",
              "      <div>\n",
              "<style scoped>\n",
              "    .dataframe tbody tr th:only-of-type {\n",
              "        vertical-align: middle;\n",
              "    }\n",
              "\n",
              "    .dataframe tbody tr th {\n",
              "        vertical-align: top;\n",
              "    }\n",
              "\n",
              "    .dataframe thead th {\n",
              "        text-align: right;\n",
              "    }\n",
              "</style>\n",
              "<table border=\"1\" class=\"dataframe\">\n",
              "  <thead>\n",
              "    <tr style=\"text-align: right;\">\n",
              "      <th></th>\n",
              "      <th>RANDID</th>\n",
              "      <th>SEX</th>\n",
              "      <th>TOTCHOL</th>\n",
              "      <th>AGE</th>\n",
              "      <th>SYSBP</th>\n",
              "      <th>DIABP</th>\n",
              "      <th>CURSMOKE</th>\n",
              "      <th>CIGPDAY</th>\n",
              "      <th>BMI</th>\n",
              "      <th>DIABETES</th>\n",
              "      <th>...</th>\n",
              "      <th>CVD</th>\n",
              "      <th>HYPERTEN</th>\n",
              "      <th>TIMEAP</th>\n",
              "      <th>TIMEMI</th>\n",
              "      <th>TIMEMIFC</th>\n",
              "      <th>TIMECHD</th>\n",
              "      <th>TIMESTRK</th>\n",
              "      <th>TIMECVD</th>\n",
              "      <th>TIMEDTH</th>\n",
              "      <th>TIMEHYP</th>\n",
              "    </tr>\n",
              "  </thead>\n",
              "  <tbody>\n",
              "    <tr>\n",
              "      <th>0</th>\n",
              "      <td>2448</td>\n",
              "      <td>1</td>\n",
              "      <td>195.0</td>\n",
              "      <td>39</td>\n",
              "      <td>106.0</td>\n",
              "      <td>70.0</td>\n",
              "      <td>0</td>\n",
              "      <td>0.0</td>\n",
              "      <td>26.97</td>\n",
              "      <td>0</td>\n",
              "      <td>...</td>\n",
              "      <td>1</td>\n",
              "      <td>0</td>\n",
              "      <td>8766</td>\n",
              "      <td>6438</td>\n",
              "      <td>6438</td>\n",
              "      <td>6438</td>\n",
              "      <td>8766</td>\n",
              "      <td>6438</td>\n",
              "      <td>8766</td>\n",
              "      <td>8766</td>\n",
              "    </tr>\n",
              "    <tr>\n",
              "      <th>1</th>\n",
              "      <td>2448</td>\n",
              "      <td>1</td>\n",
              "      <td>209.0</td>\n",
              "      <td>52</td>\n",
              "      <td>121.0</td>\n",
              "      <td>66.0</td>\n",
              "      <td>0</td>\n",
              "      <td>0.0</td>\n",
              "      <td>NaN</td>\n",
              "      <td>0</td>\n",
              "      <td>...</td>\n",
              "      <td>1</td>\n",
              "      <td>0</td>\n",
              "      <td>8766</td>\n",
              "      <td>6438</td>\n",
              "      <td>6438</td>\n",
              "      <td>6438</td>\n",
              "      <td>8766</td>\n",
              "      <td>6438</td>\n",
              "      <td>8766</td>\n",
              "      <td>8766</td>\n",
              "    </tr>\n",
              "    <tr>\n",
              "      <th>2</th>\n",
              "      <td>6238</td>\n",
              "      <td>2</td>\n",
              "      <td>250.0</td>\n",
              "      <td>46</td>\n",
              "      <td>121.0</td>\n",
              "      <td>81.0</td>\n",
              "      <td>0</td>\n",
              "      <td>0.0</td>\n",
              "      <td>28.73</td>\n",
              "      <td>0</td>\n",
              "      <td>...</td>\n",
              "      <td>0</td>\n",
              "      <td>0</td>\n",
              "      <td>8766</td>\n",
              "      <td>8766</td>\n",
              "      <td>8766</td>\n",
              "      <td>8766</td>\n",
              "      <td>8766</td>\n",
              "      <td>8766</td>\n",
              "      <td>8766</td>\n",
              "      <td>8766</td>\n",
              "    </tr>\n",
              "    <tr>\n",
              "      <th>3</th>\n",
              "      <td>6238</td>\n",
              "      <td>2</td>\n",
              "      <td>260.0</td>\n",
              "      <td>52</td>\n",
              "      <td>105.0</td>\n",
              "      <td>69.5</td>\n",
              "      <td>0</td>\n",
              "      <td>0.0</td>\n",
              "      <td>29.43</td>\n",
              "      <td>0</td>\n",
              "      <td>...</td>\n",
              "      <td>0</td>\n",
              "      <td>0</td>\n",
              "      <td>8766</td>\n",
              "      <td>8766</td>\n",
              "      <td>8766</td>\n",
              "      <td>8766</td>\n",
              "      <td>8766</td>\n",
              "      <td>8766</td>\n",
              "      <td>8766</td>\n",
              "      <td>8766</td>\n",
              "    </tr>\n",
              "    <tr>\n",
              "      <th>4</th>\n",
              "      <td>6238</td>\n",
              "      <td>2</td>\n",
              "      <td>237.0</td>\n",
              "      <td>58</td>\n",
              "      <td>108.0</td>\n",
              "      <td>66.0</td>\n",
              "      <td>0</td>\n",
              "      <td>0.0</td>\n",
              "      <td>28.50</td>\n",
              "      <td>0</td>\n",
              "      <td>...</td>\n",
              "      <td>0</td>\n",
              "      <td>0</td>\n",
              "      <td>8766</td>\n",
              "      <td>8766</td>\n",
              "      <td>8766</td>\n",
              "      <td>8766</td>\n",
              "      <td>8766</td>\n",
              "      <td>8766</td>\n",
              "      <td>8766</td>\n",
              "      <td>8766</td>\n",
              "    </tr>\n",
              "    <tr>\n",
              "      <th>...</th>\n",
              "      <td>...</td>\n",
              "      <td>...</td>\n",
              "      <td>...</td>\n",
              "      <td>...</td>\n",
              "      <td>...</td>\n",
              "      <td>...</td>\n",
              "      <td>...</td>\n",
              "      <td>...</td>\n",
              "      <td>...</td>\n",
              "      <td>...</td>\n",
              "      <td>...</td>\n",
              "      <td>...</td>\n",
              "      <td>...</td>\n",
              "      <td>...</td>\n",
              "      <td>...</td>\n",
              "      <td>...</td>\n",
              "      <td>...</td>\n",
              "      <td>...</td>\n",
              "      <td>...</td>\n",
              "      <td>...</td>\n",
              "      <td>...</td>\n",
              "    </tr>\n",
              "    <tr>\n",
              "      <th>11622</th>\n",
              "      <td>9998212</td>\n",
              "      <td>1</td>\n",
              "      <td>173.0</td>\n",
              "      <td>46</td>\n",
              "      <td>126.0</td>\n",
              "      <td>82.0</td>\n",
              "      <td>0</td>\n",
              "      <td>0.0</td>\n",
              "      <td>19.17</td>\n",
              "      <td>0</td>\n",
              "      <td>...</td>\n",
              "      <td>0</td>\n",
              "      <td>1</td>\n",
              "      <td>8766</td>\n",
              "      <td>8766</td>\n",
              "      <td>8766</td>\n",
              "      <td>8766</td>\n",
              "      <td>8766</td>\n",
              "      <td>8766</td>\n",
              "      <td>8766</td>\n",
              "      <td>0</td>\n",
              "    </tr>\n",
              "    <tr>\n",
              "      <th>11623</th>\n",
              "      <td>9998212</td>\n",
              "      <td>1</td>\n",
              "      <td>153.0</td>\n",
              "      <td>52</td>\n",
              "      <td>143.0</td>\n",
              "      <td>89.0</td>\n",
              "      <td>0</td>\n",
              "      <td>0.0</td>\n",
              "      <td>25.74</td>\n",
              "      <td>0</td>\n",
              "      <td>...</td>\n",
              "      <td>0</td>\n",
              "      <td>1</td>\n",
              "      <td>8766</td>\n",
              "      <td>8766</td>\n",
              "      <td>8766</td>\n",
              "      <td>8766</td>\n",
              "      <td>8766</td>\n",
              "      <td>8766</td>\n",
              "      <td>8766</td>\n",
              "      <td>0</td>\n",
              "    </tr>\n",
              "    <tr>\n",
              "      <th>11624</th>\n",
              "      <td>9999312</td>\n",
              "      <td>2</td>\n",
              "      <td>196.0</td>\n",
              "      <td>39</td>\n",
              "      <td>133.0</td>\n",
              "      <td>86.0</td>\n",
              "      <td>1</td>\n",
              "      <td>30.0</td>\n",
              "      <td>20.91</td>\n",
              "      <td>0</td>\n",
              "      <td>...</td>\n",
              "      <td>0</td>\n",
              "      <td>1</td>\n",
              "      <td>8766</td>\n",
              "      <td>8766</td>\n",
              "      <td>8766</td>\n",
              "      <td>8766</td>\n",
              "      <td>8766</td>\n",
              "      <td>8766</td>\n",
              "      <td>8766</td>\n",
              "      <td>4201</td>\n",
              "    </tr>\n",
              "    <tr>\n",
              "      <th>11625</th>\n",
              "      <td>9999312</td>\n",
              "      <td>2</td>\n",
              "      <td>240.0</td>\n",
              "      <td>46</td>\n",
              "      <td>138.0</td>\n",
              "      <td>79.0</td>\n",
              "      <td>1</td>\n",
              "      <td>20.0</td>\n",
              "      <td>26.39</td>\n",
              "      <td>0</td>\n",
              "      <td>...</td>\n",
              "      <td>0</td>\n",
              "      <td>1</td>\n",
              "      <td>8766</td>\n",
              "      <td>8766</td>\n",
              "      <td>8766</td>\n",
              "      <td>8766</td>\n",
              "      <td>8766</td>\n",
              "      <td>8766</td>\n",
              "      <td>8766</td>\n",
              "      <td>4201</td>\n",
              "    </tr>\n",
              "    <tr>\n",
              "      <th>11626</th>\n",
              "      <td>9999312</td>\n",
              "      <td>2</td>\n",
              "      <td>NaN</td>\n",
              "      <td>50</td>\n",
              "      <td>147.0</td>\n",
              "      <td>96.0</td>\n",
              "      <td>1</td>\n",
              "      <td>10.0</td>\n",
              "      <td>24.19</td>\n",
              "      <td>0</td>\n",
              "      <td>...</td>\n",
              "      <td>0</td>\n",
              "      <td>1</td>\n",
              "      <td>8766</td>\n",
              "      <td>8766</td>\n",
              "      <td>8766</td>\n",
              "      <td>8766</td>\n",
              "      <td>8766</td>\n",
              "      <td>8766</td>\n",
              "      <td>8766</td>\n",
              "      <td>4201</td>\n",
              "    </tr>\n",
              "  </tbody>\n",
              "</table>\n",
              "<p>11627 rows × 39 columns</p>\n",
              "</div>\n",
              "      <button class=\"colab-df-convert\" onclick=\"convertToInteractive('df-b12e4bb0-c015-4fdd-9367-2a74f5040507')\"\n",
              "              title=\"Convert this dataframe to an interactive table.\"\n",
              "              style=\"display:none;\">\n",
              "        \n",
              "  <svg xmlns=\"http://www.w3.org/2000/svg\" height=\"24px\"viewBox=\"0 0 24 24\"\n",
              "       width=\"24px\">\n",
              "    <path d=\"M0 0h24v24H0V0z\" fill=\"none\"/>\n",
              "    <path d=\"M18.56 5.44l.94 2.06.94-2.06 2.06-.94-2.06-.94-.94-2.06-.94 2.06-2.06.94zm-11 1L8.5 8.5l.94-2.06 2.06-.94-2.06-.94L8.5 2.5l-.94 2.06-2.06.94zm10 10l.94 2.06.94-2.06 2.06-.94-2.06-.94-.94-2.06-.94 2.06-2.06.94z\"/><path d=\"M17.41 7.96l-1.37-1.37c-.4-.4-.92-.59-1.43-.59-.52 0-1.04.2-1.43.59L10.3 9.45l-7.72 7.72c-.78.78-.78 2.05 0 2.83L4 21.41c.39.39.9.59 1.41.59.51 0 1.02-.2 1.41-.59l7.78-7.78 2.81-2.81c.8-.78.8-2.07 0-2.86zM5.41 20L4 18.59l7.72-7.72 1.47 1.35L5.41 20z\"/>\n",
              "  </svg>\n",
              "      </button>\n",
              "      \n",
              "  <style>\n",
              "    .colab-df-container {\n",
              "      display:flex;\n",
              "      flex-wrap:wrap;\n",
              "      gap: 12px;\n",
              "    }\n",
              "\n",
              "    .colab-df-convert {\n",
              "      background-color: #E8F0FE;\n",
              "      border: none;\n",
              "      border-radius: 50%;\n",
              "      cursor: pointer;\n",
              "      display: none;\n",
              "      fill: #1967D2;\n",
              "      height: 32px;\n",
              "      padding: 0 0 0 0;\n",
              "      width: 32px;\n",
              "    }\n",
              "\n",
              "    .colab-df-convert:hover {\n",
              "      background-color: #E2EBFA;\n",
              "      box-shadow: 0px 1px 2px rgba(60, 64, 67, 0.3), 0px 1px 3px 1px rgba(60, 64, 67, 0.15);\n",
              "      fill: #174EA6;\n",
              "    }\n",
              "\n",
              "    [theme=dark] .colab-df-convert {\n",
              "      background-color: #3B4455;\n",
              "      fill: #D2E3FC;\n",
              "    }\n",
              "\n",
              "    [theme=dark] .colab-df-convert:hover {\n",
              "      background-color: #434B5C;\n",
              "      box-shadow: 0px 1px 3px 1px rgba(0, 0, 0, 0.15);\n",
              "      filter: drop-shadow(0px 1px 2px rgba(0, 0, 0, 0.3));\n",
              "      fill: #FFFFFF;\n",
              "    }\n",
              "  </style>\n",
              "\n",
              "      <script>\n",
              "        const buttonEl =\n",
              "          document.querySelector('#df-b12e4bb0-c015-4fdd-9367-2a74f5040507 button.colab-df-convert');\n",
              "        buttonEl.style.display =\n",
              "          google.colab.kernel.accessAllowed ? 'block' : 'none';\n",
              "\n",
              "        async function convertToInteractive(key) {\n",
              "          const element = document.querySelector('#df-b12e4bb0-c015-4fdd-9367-2a74f5040507');\n",
              "          const dataTable =\n",
              "            await google.colab.kernel.invokeFunction('convertToInteractive',\n",
              "                                                     [key], {});\n",
              "          if (!dataTable) return;\n",
              "\n",
              "          const docLinkHtml = 'Like what you see? Visit the ' +\n",
              "            '<a target=\"_blank\" href=https://colab.research.google.com/notebooks/data_table.ipynb>data table notebook</a>'\n",
              "            + ' to learn more about interactive tables.';\n",
              "          element.innerHTML = '';\n",
              "          dataTable['output_type'] = 'display_data';\n",
              "          await google.colab.output.renderOutput(dataTable, element);\n",
              "          const docLink = document.createElement('div');\n",
              "          docLink.innerHTML = docLinkHtml;\n",
              "          element.appendChild(docLink);\n",
              "        }\n",
              "      </script>\n",
              "    </div>\n",
              "  </div>\n",
              "  "
            ]
          },
          "metadata": {},
          "execution_count": 13
        }
      ]
    },
    {
      "cell_type": "code",
      "source": [
        "df.dtypes"
      ],
      "metadata": {
        "id": "91oq1qk4r9gT",
        "outputId": "3d00912a-7bde-42e1-ca13-560c89b393e3",
        "colab": {
          "base_uri": "https://localhost:8080/"
        }
      },
      "execution_count": 14,
      "outputs": [
        {
          "output_type": "execute_result",
          "data": {
            "text/plain": [
              "RANDID        int64\n",
              "SEX           int64\n",
              "TOTCHOL     float64\n",
              "AGE           int64\n",
              "SYSBP       float64\n",
              "DIABP       float64\n",
              "CURSMOKE      int64\n",
              "CIGPDAY     float64\n",
              "BMI         float64\n",
              "DIABETES      int64\n",
              "BPMEDS      float64\n",
              "HEARTRTE    float64\n",
              "GLUCOSE     float64\n",
              "educ        float64\n",
              "PREVCHD       int64\n",
              "PREVAP        int64\n",
              "PREVMI        int64\n",
              "PREVSTRK      int64\n",
              "PREVHYP       int64\n",
              "TIME          int64\n",
              "PERIOD        int64\n",
              "HDLC        float64\n",
              "LDLC        float64\n",
              "DEATH         int64\n",
              "ANGINA        int64\n",
              "HOSPMI        int64\n",
              "MI_FCHD       int64\n",
              "ANYCHD        int64\n",
              "STROKE        int64\n",
              "CVD           int64\n",
              "HYPERTEN      int64\n",
              "TIMEAP        int64\n",
              "TIMEMI        int64\n",
              "TIMEMIFC      int64\n",
              "TIMECHD       int64\n",
              "TIMESTRK      int64\n",
              "TIMECVD       int64\n",
              "TIMEDTH       int64\n",
              "TIMEHYP       int64\n",
              "dtype: object"
            ]
          },
          "metadata": {},
          "execution_count": 14
        }
      ]
    },
    {
      "cell_type": "markdown",
      "source": [
        "Export the orginal DataFrame"
      ],
      "metadata": {
        "id": "cm6xh7m_TQ5h"
      }
    },
    {
      "cell_type": "code",
      "source": [
        "df.to_csv('/content/startingData/FHS_Ori.csv')"
      ],
      "metadata": {
        "id": "Xj3cahGkTTex"
      },
      "execution_count": 15,
      "outputs": []
    },
    {
      "cell_type": "markdown",
      "source": [
        "Start our analyses by gathering the columns of interest"
      ],
      "metadata": {
        "id": "FFS07kRFTp3U"
      }
    },
    {
      "cell_type": "code",
      "source": [
        "columnsOfInterest=['RANDID','PERIOD','SEX','AGE','CURSMOKE','SYSBP','BMI','DEATH','ANGINA','HOSPMI','CVD']\n",
        "#Since we are only intereted in certain columns, we bulid a new dataframe with those columns of interest."
      ],
      "metadata": {
        "id": "FTMlO3lrbw9E"
      },
      "execution_count": 16,
      "outputs": []
    },
    {
      "cell_type": "code",
      "source": [
        "df_1 = df[columnsOfInterest]\n",
        "df_1"
      ],
      "metadata": {
        "colab": {
          "base_uri": "https://localhost:8080/",
          "height": 424
        },
        "id": "1f9IoqW8dQV3",
        "outputId": "3868b7d4-9240-4b7a-de68-960182d5a75d"
      },
      "execution_count": 17,
      "outputs": [
        {
          "output_type": "execute_result",
          "data": {
            "text/plain": [
              "        RANDID  PERIOD  SEX  AGE  CURSMOKE  SYSBP    BMI  DEATH  ANGINA  \\\n",
              "0         2448       1    1   39         0  106.0  26.97      0       0   \n",
              "1         2448       3    1   52         0  121.0    NaN      0       0   \n",
              "2         6238       1    2   46         0  121.0  28.73      0       0   \n",
              "3         6238       2    2   52         0  105.0  29.43      0       0   \n",
              "4         6238       3    2   58         0  108.0  28.50      0       0   \n",
              "...        ...     ...  ...  ...       ...    ...    ...    ...     ...   \n",
              "11622  9998212       2    1   46         0  126.0  19.17      0       0   \n",
              "11623  9998212       3    1   52         0  143.0  25.74      0       0   \n",
              "11624  9999312       1    2   39         1  133.0  20.91      0       0   \n",
              "11625  9999312       2    2   46         1  138.0  26.39      0       0   \n",
              "11626  9999312       3    2   50         1  147.0  24.19      0       0   \n",
              "\n",
              "       HOSPMI  CVD  \n",
              "0           1    1  \n",
              "1           1    1  \n",
              "2           0    0  \n",
              "3           0    0  \n",
              "4           0    0  \n",
              "...       ...  ...  \n",
              "11622       0    0  \n",
              "11623       0    0  \n",
              "11624       0    0  \n",
              "11625       0    0  \n",
              "11626       0    0  \n",
              "\n",
              "[11627 rows x 11 columns]"
            ],
            "text/html": [
              "\n",
              "  <div id=\"df-db89da7d-e5cf-4f2f-a05d-f5954d75c488\">\n",
              "    <div class=\"colab-df-container\">\n",
              "      <div>\n",
              "<style scoped>\n",
              "    .dataframe tbody tr th:only-of-type {\n",
              "        vertical-align: middle;\n",
              "    }\n",
              "\n",
              "    .dataframe tbody tr th {\n",
              "        vertical-align: top;\n",
              "    }\n",
              "\n",
              "    .dataframe thead th {\n",
              "        text-align: right;\n",
              "    }\n",
              "</style>\n",
              "<table border=\"1\" class=\"dataframe\">\n",
              "  <thead>\n",
              "    <tr style=\"text-align: right;\">\n",
              "      <th></th>\n",
              "      <th>RANDID</th>\n",
              "      <th>PERIOD</th>\n",
              "      <th>SEX</th>\n",
              "      <th>AGE</th>\n",
              "      <th>CURSMOKE</th>\n",
              "      <th>SYSBP</th>\n",
              "      <th>BMI</th>\n",
              "      <th>DEATH</th>\n",
              "      <th>ANGINA</th>\n",
              "      <th>HOSPMI</th>\n",
              "      <th>CVD</th>\n",
              "    </tr>\n",
              "  </thead>\n",
              "  <tbody>\n",
              "    <tr>\n",
              "      <th>0</th>\n",
              "      <td>2448</td>\n",
              "      <td>1</td>\n",
              "      <td>1</td>\n",
              "      <td>39</td>\n",
              "      <td>0</td>\n",
              "      <td>106.0</td>\n",
              "      <td>26.97</td>\n",
              "      <td>0</td>\n",
              "      <td>0</td>\n",
              "      <td>1</td>\n",
              "      <td>1</td>\n",
              "    </tr>\n",
              "    <tr>\n",
              "      <th>1</th>\n",
              "      <td>2448</td>\n",
              "      <td>3</td>\n",
              "      <td>1</td>\n",
              "      <td>52</td>\n",
              "      <td>0</td>\n",
              "      <td>121.0</td>\n",
              "      <td>NaN</td>\n",
              "      <td>0</td>\n",
              "      <td>0</td>\n",
              "      <td>1</td>\n",
              "      <td>1</td>\n",
              "    </tr>\n",
              "    <tr>\n",
              "      <th>2</th>\n",
              "      <td>6238</td>\n",
              "      <td>1</td>\n",
              "      <td>2</td>\n",
              "      <td>46</td>\n",
              "      <td>0</td>\n",
              "      <td>121.0</td>\n",
              "      <td>28.73</td>\n",
              "      <td>0</td>\n",
              "      <td>0</td>\n",
              "      <td>0</td>\n",
              "      <td>0</td>\n",
              "    </tr>\n",
              "    <tr>\n",
              "      <th>3</th>\n",
              "      <td>6238</td>\n",
              "      <td>2</td>\n",
              "      <td>2</td>\n",
              "      <td>52</td>\n",
              "      <td>0</td>\n",
              "      <td>105.0</td>\n",
              "      <td>29.43</td>\n",
              "      <td>0</td>\n",
              "      <td>0</td>\n",
              "      <td>0</td>\n",
              "      <td>0</td>\n",
              "    </tr>\n",
              "    <tr>\n",
              "      <th>4</th>\n",
              "      <td>6238</td>\n",
              "      <td>3</td>\n",
              "      <td>2</td>\n",
              "      <td>58</td>\n",
              "      <td>0</td>\n",
              "      <td>108.0</td>\n",
              "      <td>28.50</td>\n",
              "      <td>0</td>\n",
              "      <td>0</td>\n",
              "      <td>0</td>\n",
              "      <td>0</td>\n",
              "    </tr>\n",
              "    <tr>\n",
              "      <th>...</th>\n",
              "      <td>...</td>\n",
              "      <td>...</td>\n",
              "      <td>...</td>\n",
              "      <td>...</td>\n",
              "      <td>...</td>\n",
              "      <td>...</td>\n",
              "      <td>...</td>\n",
              "      <td>...</td>\n",
              "      <td>...</td>\n",
              "      <td>...</td>\n",
              "      <td>...</td>\n",
              "    </tr>\n",
              "    <tr>\n",
              "      <th>11622</th>\n",
              "      <td>9998212</td>\n",
              "      <td>2</td>\n",
              "      <td>1</td>\n",
              "      <td>46</td>\n",
              "      <td>0</td>\n",
              "      <td>126.0</td>\n",
              "      <td>19.17</td>\n",
              "      <td>0</td>\n",
              "      <td>0</td>\n",
              "      <td>0</td>\n",
              "      <td>0</td>\n",
              "    </tr>\n",
              "    <tr>\n",
              "      <th>11623</th>\n",
              "      <td>9998212</td>\n",
              "      <td>3</td>\n",
              "      <td>1</td>\n",
              "      <td>52</td>\n",
              "      <td>0</td>\n",
              "      <td>143.0</td>\n",
              "      <td>25.74</td>\n",
              "      <td>0</td>\n",
              "      <td>0</td>\n",
              "      <td>0</td>\n",
              "      <td>0</td>\n",
              "    </tr>\n",
              "    <tr>\n",
              "      <th>11624</th>\n",
              "      <td>9999312</td>\n",
              "      <td>1</td>\n",
              "      <td>2</td>\n",
              "      <td>39</td>\n",
              "      <td>1</td>\n",
              "      <td>133.0</td>\n",
              "      <td>20.91</td>\n",
              "      <td>0</td>\n",
              "      <td>0</td>\n",
              "      <td>0</td>\n",
              "      <td>0</td>\n",
              "    </tr>\n",
              "    <tr>\n",
              "      <th>11625</th>\n",
              "      <td>9999312</td>\n",
              "      <td>2</td>\n",
              "      <td>2</td>\n",
              "      <td>46</td>\n",
              "      <td>1</td>\n",
              "      <td>138.0</td>\n",
              "      <td>26.39</td>\n",
              "      <td>0</td>\n",
              "      <td>0</td>\n",
              "      <td>0</td>\n",
              "      <td>0</td>\n",
              "    </tr>\n",
              "    <tr>\n",
              "      <th>11626</th>\n",
              "      <td>9999312</td>\n",
              "      <td>3</td>\n",
              "      <td>2</td>\n",
              "      <td>50</td>\n",
              "      <td>1</td>\n",
              "      <td>147.0</td>\n",
              "      <td>24.19</td>\n",
              "      <td>0</td>\n",
              "      <td>0</td>\n",
              "      <td>0</td>\n",
              "      <td>0</td>\n",
              "    </tr>\n",
              "  </tbody>\n",
              "</table>\n",
              "<p>11627 rows × 11 columns</p>\n",
              "</div>\n",
              "      <button class=\"colab-df-convert\" onclick=\"convertToInteractive('df-db89da7d-e5cf-4f2f-a05d-f5954d75c488')\"\n",
              "              title=\"Convert this dataframe to an interactive table.\"\n",
              "              style=\"display:none;\">\n",
              "        \n",
              "  <svg xmlns=\"http://www.w3.org/2000/svg\" height=\"24px\"viewBox=\"0 0 24 24\"\n",
              "       width=\"24px\">\n",
              "    <path d=\"M0 0h24v24H0V0z\" fill=\"none\"/>\n",
              "    <path d=\"M18.56 5.44l.94 2.06.94-2.06 2.06-.94-2.06-.94-.94-2.06-.94 2.06-2.06.94zm-11 1L8.5 8.5l.94-2.06 2.06-.94-2.06-.94L8.5 2.5l-.94 2.06-2.06.94zm10 10l.94 2.06.94-2.06 2.06-.94-2.06-.94-.94-2.06-.94 2.06-2.06.94z\"/><path d=\"M17.41 7.96l-1.37-1.37c-.4-.4-.92-.59-1.43-.59-.52 0-1.04.2-1.43.59L10.3 9.45l-7.72 7.72c-.78.78-.78 2.05 0 2.83L4 21.41c.39.39.9.59 1.41.59.51 0 1.02-.2 1.41-.59l7.78-7.78 2.81-2.81c.8-.78.8-2.07 0-2.86zM5.41 20L4 18.59l7.72-7.72 1.47 1.35L5.41 20z\"/>\n",
              "  </svg>\n",
              "      </button>\n",
              "      \n",
              "  <style>\n",
              "    .colab-df-container {\n",
              "      display:flex;\n",
              "      flex-wrap:wrap;\n",
              "      gap: 12px;\n",
              "    }\n",
              "\n",
              "    .colab-df-convert {\n",
              "      background-color: #E8F0FE;\n",
              "      border: none;\n",
              "      border-radius: 50%;\n",
              "      cursor: pointer;\n",
              "      display: none;\n",
              "      fill: #1967D2;\n",
              "      height: 32px;\n",
              "      padding: 0 0 0 0;\n",
              "      width: 32px;\n",
              "    }\n",
              "\n",
              "    .colab-df-convert:hover {\n",
              "      background-color: #E2EBFA;\n",
              "      box-shadow: 0px 1px 2px rgba(60, 64, 67, 0.3), 0px 1px 3px 1px rgba(60, 64, 67, 0.15);\n",
              "      fill: #174EA6;\n",
              "    }\n",
              "\n",
              "    [theme=dark] .colab-df-convert {\n",
              "      background-color: #3B4455;\n",
              "      fill: #D2E3FC;\n",
              "    }\n",
              "\n",
              "    [theme=dark] .colab-df-convert:hover {\n",
              "      background-color: #434B5C;\n",
              "      box-shadow: 0px 1px 3px 1px rgba(0, 0, 0, 0.15);\n",
              "      filter: drop-shadow(0px 1px 2px rgba(0, 0, 0, 0.3));\n",
              "      fill: #FFFFFF;\n",
              "    }\n",
              "  </style>\n",
              "\n",
              "      <script>\n",
              "        const buttonEl =\n",
              "          document.querySelector('#df-db89da7d-e5cf-4f2f-a05d-f5954d75c488 button.colab-df-convert');\n",
              "        buttonEl.style.display =\n",
              "          google.colab.kernel.accessAllowed ? 'block' : 'none';\n",
              "\n",
              "        async function convertToInteractive(key) {\n",
              "          const element = document.querySelector('#df-db89da7d-e5cf-4f2f-a05d-f5954d75c488');\n",
              "          const dataTable =\n",
              "            await google.colab.kernel.invokeFunction('convertToInteractive',\n",
              "                                                     [key], {});\n",
              "          if (!dataTable) return;\n",
              "\n",
              "          const docLinkHtml = 'Like what you see? Visit the ' +\n",
              "            '<a target=\"_blank\" href=https://colab.research.google.com/notebooks/data_table.ipynb>data table notebook</a>'\n",
              "            + ' to learn more about interactive tables.';\n",
              "          element.innerHTML = '';\n",
              "          dataTable['output_type'] = 'display_data';\n",
              "          await google.colab.output.renderOutput(dataTable, element);\n",
              "          const docLink = document.createElement('div');\n",
              "          docLink.innerHTML = docLinkHtml;\n",
              "          element.appendChild(docLink);\n",
              "        }\n",
              "      </script>\n",
              "    </div>\n",
              "  </div>\n",
              "  "
            ]
          },
          "metadata": {},
          "execution_count": 17
        }
      ]
    },
    {
      "cell_type": "markdown",
      "source": [
        "df_2 keep only period = 3\n",
        "\n",
        "***The observations from each subject were taken every 6 years, considering that some endpoints were only measured in the third period, also there were some subjects who did not complete the whole obeservation cycle, we only use the data from the final period.***"
      ],
      "metadata": {
        "id": "D0yCwwZ1eWR4"
      }
    },
    {
      "cell_type": "code",
      "source": [
        "# Delete the obeservations from the first two periods.\n",
        "df_2 = df_1.loc[df_1['PERIOD'] == 3]\n",
        "df_2"
      ],
      "metadata": {
        "colab": {
          "base_uri": "https://localhost:8080/",
          "height": 424
        },
        "id": "IwPDV3mseVwi",
        "outputId": "abaf282a-7b2c-4459-8958-53b66dda8902"
      },
      "execution_count": 18,
      "outputs": [
        {
          "output_type": "execute_result",
          "data": {
            "text/plain": [
              "        RANDID  PERIOD  SEX  AGE  CURSMOKE  SYSBP    BMI  DEATH  ANGINA  \\\n",
              "1         2448       3    1   52         0  121.0    NaN      0       0   \n",
              "4         6238       3    2   58         0  108.0  28.50      0       0   \n",
              "11       11252       3    2   58         1  155.0  24.61      0       0   \n",
              "14       11263       3    2   55         0  180.0  31.17      0       0   \n",
              "19       12806       3    2   57         1  110.0  22.02      0       0   \n",
              "...        ...     ...  ...  ...       ...    ...    ...    ...     ...   \n",
              "11612  9989287       3    1   63         1  120.0  17.38      1       0   \n",
              "11615  9990894       3    2   60         1  205.0  22.37      1       0   \n",
              "11618  9993179       3    2   56         1  145.0  21.97      1       0   \n",
              "11623  9998212       3    1   52         0  143.0  25.74      0       0   \n",
              "11626  9999312       3    2   50         1  147.0  24.19      0       0   \n",
              "\n",
              "       HOSPMI  CVD  \n",
              "1           1    1  \n",
              "4           0    0  \n",
              "11          0    0  \n",
              "14          0    1  \n",
              "19          0    0  \n",
              "...       ...  ...  \n",
              "11612       0    0  \n",
              "11615       0    0  \n",
              "11618       0    0  \n",
              "11623       0    0  \n",
              "11626       0    0  \n",
              "\n",
              "[3263 rows x 11 columns]"
            ],
            "text/html": [
              "\n",
              "  <div id=\"df-73c7b37c-bb49-4cf0-80b1-2ee5c81c26fb\">\n",
              "    <div class=\"colab-df-container\">\n",
              "      <div>\n",
              "<style scoped>\n",
              "    .dataframe tbody tr th:only-of-type {\n",
              "        vertical-align: middle;\n",
              "    }\n",
              "\n",
              "    .dataframe tbody tr th {\n",
              "        vertical-align: top;\n",
              "    }\n",
              "\n",
              "    .dataframe thead th {\n",
              "        text-align: right;\n",
              "    }\n",
              "</style>\n",
              "<table border=\"1\" class=\"dataframe\">\n",
              "  <thead>\n",
              "    <tr style=\"text-align: right;\">\n",
              "      <th></th>\n",
              "      <th>RANDID</th>\n",
              "      <th>PERIOD</th>\n",
              "      <th>SEX</th>\n",
              "      <th>AGE</th>\n",
              "      <th>CURSMOKE</th>\n",
              "      <th>SYSBP</th>\n",
              "      <th>BMI</th>\n",
              "      <th>DEATH</th>\n",
              "      <th>ANGINA</th>\n",
              "      <th>HOSPMI</th>\n",
              "      <th>CVD</th>\n",
              "    </tr>\n",
              "  </thead>\n",
              "  <tbody>\n",
              "    <tr>\n",
              "      <th>1</th>\n",
              "      <td>2448</td>\n",
              "      <td>3</td>\n",
              "      <td>1</td>\n",
              "      <td>52</td>\n",
              "      <td>0</td>\n",
              "      <td>121.0</td>\n",
              "      <td>NaN</td>\n",
              "      <td>0</td>\n",
              "      <td>0</td>\n",
              "      <td>1</td>\n",
              "      <td>1</td>\n",
              "    </tr>\n",
              "    <tr>\n",
              "      <th>4</th>\n",
              "      <td>6238</td>\n",
              "      <td>3</td>\n",
              "      <td>2</td>\n",
              "      <td>58</td>\n",
              "      <td>0</td>\n",
              "      <td>108.0</td>\n",
              "      <td>28.50</td>\n",
              "      <td>0</td>\n",
              "      <td>0</td>\n",
              "      <td>0</td>\n",
              "      <td>0</td>\n",
              "    </tr>\n",
              "    <tr>\n",
              "      <th>11</th>\n",
              "      <td>11252</td>\n",
              "      <td>3</td>\n",
              "      <td>2</td>\n",
              "      <td>58</td>\n",
              "      <td>1</td>\n",
              "      <td>155.0</td>\n",
              "      <td>24.61</td>\n",
              "      <td>0</td>\n",
              "      <td>0</td>\n",
              "      <td>0</td>\n",
              "      <td>0</td>\n",
              "    </tr>\n",
              "    <tr>\n",
              "      <th>14</th>\n",
              "      <td>11263</td>\n",
              "      <td>3</td>\n",
              "      <td>2</td>\n",
              "      <td>55</td>\n",
              "      <td>0</td>\n",
              "      <td>180.0</td>\n",
              "      <td>31.17</td>\n",
              "      <td>0</td>\n",
              "      <td>0</td>\n",
              "      <td>0</td>\n",
              "      <td>1</td>\n",
              "    </tr>\n",
              "    <tr>\n",
              "      <th>19</th>\n",
              "      <td>12806</td>\n",
              "      <td>3</td>\n",
              "      <td>2</td>\n",
              "      <td>57</td>\n",
              "      <td>1</td>\n",
              "      <td>110.0</td>\n",
              "      <td>22.02</td>\n",
              "      <td>0</td>\n",
              "      <td>0</td>\n",
              "      <td>0</td>\n",
              "      <td>0</td>\n",
              "    </tr>\n",
              "    <tr>\n",
              "      <th>...</th>\n",
              "      <td>...</td>\n",
              "      <td>...</td>\n",
              "      <td>...</td>\n",
              "      <td>...</td>\n",
              "      <td>...</td>\n",
              "      <td>...</td>\n",
              "      <td>...</td>\n",
              "      <td>...</td>\n",
              "      <td>...</td>\n",
              "      <td>...</td>\n",
              "      <td>...</td>\n",
              "    </tr>\n",
              "    <tr>\n",
              "      <th>11612</th>\n",
              "      <td>9989287</td>\n",
              "      <td>3</td>\n",
              "      <td>1</td>\n",
              "      <td>63</td>\n",
              "      <td>1</td>\n",
              "      <td>120.0</td>\n",
              "      <td>17.38</td>\n",
              "      <td>1</td>\n",
              "      <td>0</td>\n",
              "      <td>0</td>\n",
              "      <td>0</td>\n",
              "    </tr>\n",
              "    <tr>\n",
              "      <th>11615</th>\n",
              "      <td>9990894</td>\n",
              "      <td>3</td>\n",
              "      <td>2</td>\n",
              "      <td>60</td>\n",
              "      <td>1</td>\n",
              "      <td>205.0</td>\n",
              "      <td>22.37</td>\n",
              "      <td>1</td>\n",
              "      <td>0</td>\n",
              "      <td>0</td>\n",
              "      <td>0</td>\n",
              "    </tr>\n",
              "    <tr>\n",
              "      <th>11618</th>\n",
              "      <td>9993179</td>\n",
              "      <td>3</td>\n",
              "      <td>2</td>\n",
              "      <td>56</td>\n",
              "      <td>1</td>\n",
              "      <td>145.0</td>\n",
              "      <td>21.97</td>\n",
              "      <td>1</td>\n",
              "      <td>0</td>\n",
              "      <td>0</td>\n",
              "      <td>0</td>\n",
              "    </tr>\n",
              "    <tr>\n",
              "      <th>11623</th>\n",
              "      <td>9998212</td>\n",
              "      <td>3</td>\n",
              "      <td>1</td>\n",
              "      <td>52</td>\n",
              "      <td>0</td>\n",
              "      <td>143.0</td>\n",
              "      <td>25.74</td>\n",
              "      <td>0</td>\n",
              "      <td>0</td>\n",
              "      <td>0</td>\n",
              "      <td>0</td>\n",
              "    </tr>\n",
              "    <tr>\n",
              "      <th>11626</th>\n",
              "      <td>9999312</td>\n",
              "      <td>3</td>\n",
              "      <td>2</td>\n",
              "      <td>50</td>\n",
              "      <td>1</td>\n",
              "      <td>147.0</td>\n",
              "      <td>24.19</td>\n",
              "      <td>0</td>\n",
              "      <td>0</td>\n",
              "      <td>0</td>\n",
              "      <td>0</td>\n",
              "    </tr>\n",
              "  </tbody>\n",
              "</table>\n",
              "<p>3263 rows × 11 columns</p>\n",
              "</div>\n",
              "      <button class=\"colab-df-convert\" onclick=\"convertToInteractive('df-73c7b37c-bb49-4cf0-80b1-2ee5c81c26fb')\"\n",
              "              title=\"Convert this dataframe to an interactive table.\"\n",
              "              style=\"display:none;\">\n",
              "        \n",
              "  <svg xmlns=\"http://www.w3.org/2000/svg\" height=\"24px\"viewBox=\"0 0 24 24\"\n",
              "       width=\"24px\">\n",
              "    <path d=\"M0 0h24v24H0V0z\" fill=\"none\"/>\n",
              "    <path d=\"M18.56 5.44l.94 2.06.94-2.06 2.06-.94-2.06-.94-.94-2.06-.94 2.06-2.06.94zm-11 1L8.5 8.5l.94-2.06 2.06-.94-2.06-.94L8.5 2.5l-.94 2.06-2.06.94zm10 10l.94 2.06.94-2.06 2.06-.94-2.06-.94-.94-2.06-.94 2.06-2.06.94z\"/><path d=\"M17.41 7.96l-1.37-1.37c-.4-.4-.92-.59-1.43-.59-.52 0-1.04.2-1.43.59L10.3 9.45l-7.72 7.72c-.78.78-.78 2.05 0 2.83L4 21.41c.39.39.9.59 1.41.59.51 0 1.02-.2 1.41-.59l7.78-7.78 2.81-2.81c.8-.78.8-2.07 0-2.86zM5.41 20L4 18.59l7.72-7.72 1.47 1.35L5.41 20z\"/>\n",
              "  </svg>\n",
              "      </button>\n",
              "      \n",
              "  <style>\n",
              "    .colab-df-container {\n",
              "      display:flex;\n",
              "      flex-wrap:wrap;\n",
              "      gap: 12px;\n",
              "    }\n",
              "\n",
              "    .colab-df-convert {\n",
              "      background-color: #E8F0FE;\n",
              "      border: none;\n",
              "      border-radius: 50%;\n",
              "      cursor: pointer;\n",
              "      display: none;\n",
              "      fill: #1967D2;\n",
              "      height: 32px;\n",
              "      padding: 0 0 0 0;\n",
              "      width: 32px;\n",
              "    }\n",
              "\n",
              "    .colab-df-convert:hover {\n",
              "      background-color: #E2EBFA;\n",
              "      box-shadow: 0px 1px 2px rgba(60, 64, 67, 0.3), 0px 1px 3px 1px rgba(60, 64, 67, 0.15);\n",
              "      fill: #174EA6;\n",
              "    }\n",
              "\n",
              "    [theme=dark] .colab-df-convert {\n",
              "      background-color: #3B4455;\n",
              "      fill: #D2E3FC;\n",
              "    }\n",
              "\n",
              "    [theme=dark] .colab-df-convert:hover {\n",
              "      background-color: #434B5C;\n",
              "      box-shadow: 0px 1px 3px 1px rgba(0, 0, 0, 0.15);\n",
              "      filter: drop-shadow(0px 1px 2px rgba(0, 0, 0, 0.3));\n",
              "      fill: #FFFFFF;\n",
              "    }\n",
              "  </style>\n",
              "\n",
              "      <script>\n",
              "        const buttonEl =\n",
              "          document.querySelector('#df-73c7b37c-bb49-4cf0-80b1-2ee5c81c26fb button.colab-df-convert');\n",
              "        buttonEl.style.display =\n",
              "          google.colab.kernel.accessAllowed ? 'block' : 'none';\n",
              "\n",
              "        async function convertToInteractive(key) {\n",
              "          const element = document.querySelector('#df-73c7b37c-bb49-4cf0-80b1-2ee5c81c26fb');\n",
              "          const dataTable =\n",
              "            await google.colab.kernel.invokeFunction('convertToInteractive',\n",
              "                                                     [key], {});\n",
              "          if (!dataTable) return;\n",
              "\n",
              "          const docLinkHtml = 'Like what you see? Visit the ' +\n",
              "            '<a target=\"_blank\" href=https://colab.research.google.com/notebooks/data_table.ipynb>data table notebook</a>'\n",
              "            + ' to learn more about interactive tables.';\n",
              "          element.innerHTML = '';\n",
              "          dataTable['output_type'] = 'display_data';\n",
              "          await google.colab.output.renderOutput(dataTable, element);\n",
              "          const docLink = document.createElement('div');\n",
              "          docLink.innerHTML = docLinkHtml;\n",
              "          element.appendChild(docLink);\n",
              "        }\n",
              "      </script>\n",
              "    </div>\n",
              "  </div>\n",
              "  "
            ]
          },
          "metadata": {},
          "execution_count": 18
        }
      ]
    },
    {
      "cell_type": "code",
      "source": [
        "# Drop the rows with the NaN values.\n",
        "df_2.isnull().sum()"
      ],
      "metadata": {
        "colab": {
          "base_uri": "https://localhost:8080/"
        },
        "id": "bYnKPh04cNxl",
        "outputId": "cfa63fbe-823e-4e4b-e1a7-339b91cc7ca6"
      },
      "execution_count": 19,
      "outputs": [
        {
          "output_type": "execute_result",
          "data": {
            "text/plain": [
              "RANDID       0\n",
              "PERIOD       0\n",
              "SEX          0\n",
              "AGE          0\n",
              "CURSMOKE     0\n",
              "SYSBP        0\n",
              "BMI         17\n",
              "DEATH        0\n",
              "ANGINA       0\n",
              "HOSPMI       0\n",
              "CVD          0\n",
              "dtype: int64"
            ]
          },
          "metadata": {},
          "execution_count": 19
        }
      ]
    },
    {
      "cell_type": "code",
      "source": [
        "# Store the cleaned data in a new dataframe named df_3\n",
        "df_3=df_2.dropna(subset=['BMI'])\n",
        "df_3.isnull().sum()\n",
        "\n",
        "\n",
        "#save the manipulated dataframe into the \"results\" subdirectory\n",
        "df_3.to_csv('/content/results/cleaned_df.csv')\n",
        "\n",
        "df_3"
      ],
      "metadata": {
        "colab": {
          "base_uri": "https://localhost:8080/",
          "height": 424
        },
        "id": "u6bwgH1EdQNZ",
        "outputId": "b879463e-30c2-4662-8f5f-147ea52e8b50"
      },
      "execution_count": 20,
      "outputs": [
        {
          "output_type": "execute_result",
          "data": {
            "text/plain": [
              "        RANDID  PERIOD  SEX  AGE  CURSMOKE  SYSBP    BMI  DEATH  ANGINA  \\\n",
              "4         6238       3    2   58         0  108.0  28.50      0       0   \n",
              "11       11252       3    2   58         1  155.0  24.61      0       0   \n",
              "14       11263       3    2   55         0  180.0  31.17      0       0   \n",
              "19       12806       3    2   57         1  110.0  22.02      0       0   \n",
              "22       14367       3    1   64         0  168.0  25.72      0       0   \n",
              "...        ...     ...  ...  ...       ...    ...    ...    ...     ...   \n",
              "11612  9989287       3    1   63         1  120.0  17.38      1       0   \n",
              "11615  9990894       3    2   60         1  205.0  22.37      1       0   \n",
              "11618  9993179       3    2   56         1  145.0  21.97      1       0   \n",
              "11623  9998212       3    1   52         0  143.0  25.74      0       0   \n",
              "11626  9999312       3    2   50         1  147.0  24.19      0       0   \n",
              "\n",
              "       HOSPMI  CVD  \n",
              "4           0    0  \n",
              "11          0    0  \n",
              "14          0    1  \n",
              "19          0    0  \n",
              "22          0    0  \n",
              "...       ...  ...  \n",
              "11612       0    0  \n",
              "11615       0    0  \n",
              "11618       0    0  \n",
              "11623       0    0  \n",
              "11626       0    0  \n",
              "\n",
              "[3246 rows x 11 columns]"
            ],
            "text/html": [
              "\n",
              "  <div id=\"df-20100bb7-ef7d-4749-a25d-65b2b1ad65d9\">\n",
              "    <div class=\"colab-df-container\">\n",
              "      <div>\n",
              "<style scoped>\n",
              "    .dataframe tbody tr th:only-of-type {\n",
              "        vertical-align: middle;\n",
              "    }\n",
              "\n",
              "    .dataframe tbody tr th {\n",
              "        vertical-align: top;\n",
              "    }\n",
              "\n",
              "    .dataframe thead th {\n",
              "        text-align: right;\n",
              "    }\n",
              "</style>\n",
              "<table border=\"1\" class=\"dataframe\">\n",
              "  <thead>\n",
              "    <tr style=\"text-align: right;\">\n",
              "      <th></th>\n",
              "      <th>RANDID</th>\n",
              "      <th>PERIOD</th>\n",
              "      <th>SEX</th>\n",
              "      <th>AGE</th>\n",
              "      <th>CURSMOKE</th>\n",
              "      <th>SYSBP</th>\n",
              "      <th>BMI</th>\n",
              "      <th>DEATH</th>\n",
              "      <th>ANGINA</th>\n",
              "      <th>HOSPMI</th>\n",
              "      <th>CVD</th>\n",
              "    </tr>\n",
              "  </thead>\n",
              "  <tbody>\n",
              "    <tr>\n",
              "      <th>4</th>\n",
              "      <td>6238</td>\n",
              "      <td>3</td>\n",
              "      <td>2</td>\n",
              "      <td>58</td>\n",
              "      <td>0</td>\n",
              "      <td>108.0</td>\n",
              "      <td>28.50</td>\n",
              "      <td>0</td>\n",
              "      <td>0</td>\n",
              "      <td>0</td>\n",
              "      <td>0</td>\n",
              "    </tr>\n",
              "    <tr>\n",
              "      <th>11</th>\n",
              "      <td>11252</td>\n",
              "      <td>3</td>\n",
              "      <td>2</td>\n",
              "      <td>58</td>\n",
              "      <td>1</td>\n",
              "      <td>155.0</td>\n",
              "      <td>24.61</td>\n",
              "      <td>0</td>\n",
              "      <td>0</td>\n",
              "      <td>0</td>\n",
              "      <td>0</td>\n",
              "    </tr>\n",
              "    <tr>\n",
              "      <th>14</th>\n",
              "      <td>11263</td>\n",
              "      <td>3</td>\n",
              "      <td>2</td>\n",
              "      <td>55</td>\n",
              "      <td>0</td>\n",
              "      <td>180.0</td>\n",
              "      <td>31.17</td>\n",
              "      <td>0</td>\n",
              "      <td>0</td>\n",
              "      <td>0</td>\n",
              "      <td>1</td>\n",
              "    </tr>\n",
              "    <tr>\n",
              "      <th>19</th>\n",
              "      <td>12806</td>\n",
              "      <td>3</td>\n",
              "      <td>2</td>\n",
              "      <td>57</td>\n",
              "      <td>1</td>\n",
              "      <td>110.0</td>\n",
              "      <td>22.02</td>\n",
              "      <td>0</td>\n",
              "      <td>0</td>\n",
              "      <td>0</td>\n",
              "      <td>0</td>\n",
              "    </tr>\n",
              "    <tr>\n",
              "      <th>22</th>\n",
              "      <td>14367</td>\n",
              "      <td>3</td>\n",
              "      <td>1</td>\n",
              "      <td>64</td>\n",
              "      <td>0</td>\n",
              "      <td>168.0</td>\n",
              "      <td>25.72</td>\n",
              "      <td>0</td>\n",
              "      <td>0</td>\n",
              "      <td>0</td>\n",
              "      <td>0</td>\n",
              "    </tr>\n",
              "    <tr>\n",
              "      <th>...</th>\n",
              "      <td>...</td>\n",
              "      <td>...</td>\n",
              "      <td>...</td>\n",
              "      <td>...</td>\n",
              "      <td>...</td>\n",
              "      <td>...</td>\n",
              "      <td>...</td>\n",
              "      <td>...</td>\n",
              "      <td>...</td>\n",
              "      <td>...</td>\n",
              "      <td>...</td>\n",
              "    </tr>\n",
              "    <tr>\n",
              "      <th>11612</th>\n",
              "      <td>9989287</td>\n",
              "      <td>3</td>\n",
              "      <td>1</td>\n",
              "      <td>63</td>\n",
              "      <td>1</td>\n",
              "      <td>120.0</td>\n",
              "      <td>17.38</td>\n",
              "      <td>1</td>\n",
              "      <td>0</td>\n",
              "      <td>0</td>\n",
              "      <td>0</td>\n",
              "    </tr>\n",
              "    <tr>\n",
              "      <th>11615</th>\n",
              "      <td>9990894</td>\n",
              "      <td>3</td>\n",
              "      <td>2</td>\n",
              "      <td>60</td>\n",
              "      <td>1</td>\n",
              "      <td>205.0</td>\n",
              "      <td>22.37</td>\n",
              "      <td>1</td>\n",
              "      <td>0</td>\n",
              "      <td>0</td>\n",
              "      <td>0</td>\n",
              "    </tr>\n",
              "    <tr>\n",
              "      <th>11618</th>\n",
              "      <td>9993179</td>\n",
              "      <td>3</td>\n",
              "      <td>2</td>\n",
              "      <td>56</td>\n",
              "      <td>1</td>\n",
              "      <td>145.0</td>\n",
              "      <td>21.97</td>\n",
              "      <td>1</td>\n",
              "      <td>0</td>\n",
              "      <td>0</td>\n",
              "      <td>0</td>\n",
              "    </tr>\n",
              "    <tr>\n",
              "      <th>11623</th>\n",
              "      <td>9998212</td>\n",
              "      <td>3</td>\n",
              "      <td>1</td>\n",
              "      <td>52</td>\n",
              "      <td>0</td>\n",
              "      <td>143.0</td>\n",
              "      <td>25.74</td>\n",
              "      <td>0</td>\n",
              "      <td>0</td>\n",
              "      <td>0</td>\n",
              "      <td>0</td>\n",
              "    </tr>\n",
              "    <tr>\n",
              "      <th>11626</th>\n",
              "      <td>9999312</td>\n",
              "      <td>3</td>\n",
              "      <td>2</td>\n",
              "      <td>50</td>\n",
              "      <td>1</td>\n",
              "      <td>147.0</td>\n",
              "      <td>24.19</td>\n",
              "      <td>0</td>\n",
              "      <td>0</td>\n",
              "      <td>0</td>\n",
              "      <td>0</td>\n",
              "    </tr>\n",
              "  </tbody>\n",
              "</table>\n",
              "<p>3246 rows × 11 columns</p>\n",
              "</div>\n",
              "      <button class=\"colab-df-convert\" onclick=\"convertToInteractive('df-20100bb7-ef7d-4749-a25d-65b2b1ad65d9')\"\n",
              "              title=\"Convert this dataframe to an interactive table.\"\n",
              "              style=\"display:none;\">\n",
              "        \n",
              "  <svg xmlns=\"http://www.w3.org/2000/svg\" height=\"24px\"viewBox=\"0 0 24 24\"\n",
              "       width=\"24px\">\n",
              "    <path d=\"M0 0h24v24H0V0z\" fill=\"none\"/>\n",
              "    <path d=\"M18.56 5.44l.94 2.06.94-2.06 2.06-.94-2.06-.94-.94-2.06-.94 2.06-2.06.94zm-11 1L8.5 8.5l.94-2.06 2.06-.94-2.06-.94L8.5 2.5l-.94 2.06-2.06.94zm10 10l.94 2.06.94-2.06 2.06-.94-2.06-.94-.94-2.06-.94 2.06-2.06.94z\"/><path d=\"M17.41 7.96l-1.37-1.37c-.4-.4-.92-.59-1.43-.59-.52 0-1.04.2-1.43.59L10.3 9.45l-7.72 7.72c-.78.78-.78 2.05 0 2.83L4 21.41c.39.39.9.59 1.41.59.51 0 1.02-.2 1.41-.59l7.78-7.78 2.81-2.81c.8-.78.8-2.07 0-2.86zM5.41 20L4 18.59l7.72-7.72 1.47 1.35L5.41 20z\"/>\n",
              "  </svg>\n",
              "      </button>\n",
              "      \n",
              "  <style>\n",
              "    .colab-df-container {\n",
              "      display:flex;\n",
              "      flex-wrap:wrap;\n",
              "      gap: 12px;\n",
              "    }\n",
              "\n",
              "    .colab-df-convert {\n",
              "      background-color: #E8F0FE;\n",
              "      border: none;\n",
              "      border-radius: 50%;\n",
              "      cursor: pointer;\n",
              "      display: none;\n",
              "      fill: #1967D2;\n",
              "      height: 32px;\n",
              "      padding: 0 0 0 0;\n",
              "      width: 32px;\n",
              "    }\n",
              "\n",
              "    .colab-df-convert:hover {\n",
              "      background-color: #E2EBFA;\n",
              "      box-shadow: 0px 1px 2px rgba(60, 64, 67, 0.3), 0px 1px 3px 1px rgba(60, 64, 67, 0.15);\n",
              "      fill: #174EA6;\n",
              "    }\n",
              "\n",
              "    [theme=dark] .colab-df-convert {\n",
              "      background-color: #3B4455;\n",
              "      fill: #D2E3FC;\n",
              "    }\n",
              "\n",
              "    [theme=dark] .colab-df-convert:hover {\n",
              "      background-color: #434B5C;\n",
              "      box-shadow: 0px 1px 3px 1px rgba(0, 0, 0, 0.15);\n",
              "      filter: drop-shadow(0px 1px 2px rgba(0, 0, 0, 0.3));\n",
              "      fill: #FFFFFF;\n",
              "    }\n",
              "  </style>\n",
              "\n",
              "      <script>\n",
              "        const buttonEl =\n",
              "          document.querySelector('#df-20100bb7-ef7d-4749-a25d-65b2b1ad65d9 button.colab-df-convert');\n",
              "        buttonEl.style.display =\n",
              "          google.colab.kernel.accessAllowed ? 'block' : 'none';\n",
              "\n",
              "        async function convertToInteractive(key) {\n",
              "          const element = document.querySelector('#df-20100bb7-ef7d-4749-a25d-65b2b1ad65d9');\n",
              "          const dataTable =\n",
              "            await google.colab.kernel.invokeFunction('convertToInteractive',\n",
              "                                                     [key], {});\n",
              "          if (!dataTable) return;\n",
              "\n",
              "          const docLinkHtml = 'Like what you see? Visit the ' +\n",
              "            '<a target=\"_blank\" href=https://colab.research.google.com/notebooks/data_table.ipynb>data table notebook</a>'\n",
              "            + ' to learn more about interactive tables.';\n",
              "          element.innerHTML = '';\n",
              "          dataTable['output_type'] = 'display_data';\n",
              "          await google.colab.output.renderOutput(dataTable, element);\n",
              "          const docLink = document.createElement('div');\n",
              "          docLink.innerHTML = docLinkHtml;\n",
              "          element.appendChild(docLink);\n",
              "        }\n",
              "      </script>\n",
              "    </div>\n",
              "  </div>\n",
              "  "
            ]
          },
          "metadata": {},
          "execution_count": 20
        }
      ]
    },
    {
      "cell_type": "markdown",
      "source": [
        "# ***Q1. Are Systolic Blood Pressure levels in smokers are greater than they are in non-smokers?***"
      ],
      "metadata": {
        "id": "7-X8Opc66Grv"
      }
    },
    {
      "cell_type": "markdown",
      "source": [
        "##**The one-sample Kolmogorov–Smirnov test (using a normal distribution) (n >= 50)**"
      ],
      "metadata": {
        "id": "Bd82q5Fsj1aC"
      }
    },
    {
      "cell_type": "markdown",
      "source": [
        "$$ H_0: The\\ data\\ follows\\ the\\ chosen\\ distribution\\ (normal) $$\n",
        "$$ H_1: The\\ data\\ does\\ not\\ follow\\ the\\ chosen\\ distribution\\ (normal) $$"
      ],
      "metadata": {
        "id": "GGYM8LMvj2fS"
      }
    },
    {
      "cell_type": "code",
      "source": [
        "# Generate a histogram to see if the data is normally distributed\n",
        "import seaborn as sns\n",
        "import matplotlib.pyplot as plt\n",
        "sns.histplot(data=df_3, x='SYSBP')\n",
        "sns.despine()\n",
        "\n",
        "#save the plot\n",
        "plt.savefig(\"/content/figures/SYSBP_hisplot.pdf\", bbox_inches='tight')"
      ],
      "metadata": {
        "colab": {
          "base_uri": "https://localhost:8080/",
          "height": 0
        },
        "id": "tjmTfh3WsZqZ",
        "outputId": "ed18c09d-cfa9-4cd4-d3d9-18781ad9e6a7"
      },
      "execution_count": 21,
      "outputs": [
        {
          "output_type": "display_data",
          "data": {
            "text/plain": [
              "<Figure size 432x288 with 1 Axes>"
            ],
            "image/png": "[encoded data removed]"
          },
          "metadata": {
            "needs_background": "light"
          }
        }
      ]
    },
    {
      "cell_type": "code",
      "source": [
        "# Plot a box plot together with a strip plot to see the summary statistic and distribution \n",
        "sns.boxplot(data = df_3, x='CURSMOKE', y='SYSBP', boxprops={'edgecolor':'black','facecolor':(1,1,1,0)}, zorder=5)\n",
        "sns.stripplot(data = df_3, x='CURSMOKE', y='SYSBP', alpha=.5, zorder=0)\n",
        "\n",
        "#save the plot\n",
        "plt.savefig(\"/content/figures/SYSBP_Combined.pdf\", bbox_inches='tight')"
      ],
      "metadata": {
        "colab": {
          "base_uri": "https://localhost:8080/",
          "height": 0
        },
        "id": "szrZK876D4oe",
        "outputId": "f05ba6ad-10f3-4674-9633-729d94afe6d8"
      },
      "execution_count": 22,
      "outputs": [
        {
          "output_type": "display_data",
          "data": {
            "text/plain": [
              "<Figure size 432x288 with 1 Axes>"
            ],
            "image/png": "[encoded data removed]"
          },
          "metadata": {
            "needs_background": "light"
          }
        }
      ]
    },
    {
      "cell_type": "markdown",
      "source": [
        "At first glance of the histogram plot, and the combined plot, we can see the data 'SYSBP' is not normally distributed, It's more like a positive skewed distribution."
      ],
      "metadata": {
        "id": "VAM5CNPiuyfZ"
      }
    },
    {
      "cell_type": "code",
      "source": [
        "# Import stats and test the normality of 'SYSBP', since it is continuos data\n",
        "import scipy.stats as stats\n",
        "stats.kstest(df_3['SYSBP'], 'norm') "
      ],
      "metadata": {
        "colab": {
          "base_uri": "https://localhost:8080/"
        },
        "id": "Qd1a4LjxijQM",
        "outputId": "8ebd322f-d202-442a-b368-e39164f358af"
      },
      "execution_count": 23,
      "outputs": [
        {
          "output_type": "execute_result",
          "data": {
            "text/plain": [
              "KstestResult(statistic=1.0, pvalue=0.0)"
            ]
          },
          "metadata": {},
          "execution_count": 23
        }
      ]
    },
    {
      "cell_type": "code",
      "source": [
        "# Create each a new dataframe to store 'CURSMOKE=1' data, and 'CURSMOKE=0' data\n",
        "df_Smoke = df_3.loc[df_3['CURSMOKE'] == 1]\n",
        "\n",
        "\n",
        "#save the manipulated dataframe into the \"results\" subdirectory\n",
        "df_Smoke.to_csv('/content/results/Smoke_df.csv')\n",
        "\n",
        "df_Smoke"
      ],
      "metadata": {
        "colab": {
          "base_uri": "https://localhost:8080/",
          "height": 0
        },
        "id": "lPV2K2XK2N1x",
        "outputId": "75b42804-c1c8-47b5-d9fe-b9a64e72afa0"
      },
      "execution_count": 24,
      "outputs": [
        {
          "output_type": "execute_result",
          "data": {
            "text/plain": [
              "        RANDID  PERIOD  SEX  AGE  CURSMOKE  SYSBP    BMI  DEATH  ANGINA  \\\n",
              "11       11252       3    2   58         1  155.0  24.61      0       0   \n",
              "19       12806       3    2   57         1  110.0  22.02      0       0   \n",
              "37       24721       3    2   51         1  141.0  24.77      1       0   \n",
              "41       33077       3    1   60         1  144.5  22.96      0       0   \n",
              "45       34689       3    2   49         1  163.0  31.45      0       0   \n",
              "...        ...     ...  ...  ...       ...    ...    ...    ...     ...   \n",
              "11586  9961615       3    1   58         1  174.0  23.65      0       0   \n",
              "11612  9989287       3    1   63         1  120.0  17.38      1       0   \n",
              "11615  9990894       3    2   60         1  205.0  22.37      1       0   \n",
              "11618  9993179       3    2   56         1  145.0  21.97      1       0   \n",
              "11626  9999312       3    2   50         1  147.0  24.19      0       0   \n",
              "\n",
              "       HOSPMI  CVD  \n",
              "11          0    0  \n",
              "19          0    0  \n",
              "37          0    0  \n",
              "41          0    0  \n",
              "45          0    0  \n",
              "...       ...  ...  \n",
              "11586       0    0  \n",
              "11612       0    0  \n",
              "11615       0    0  \n",
              "11618       0    0  \n",
              "11626       0    0  \n",
              "\n",
              "[1118 rows x 11 columns]"
            ],
            "text/html": [
              "\n",
              "  <div id=\"df-dcd46dcb-2cf0-4887-88b8-e2c77bb07dd2\">\n",
              "    <div class=\"colab-df-container\">\n",
              "      <div>\n",
              "<style scoped>\n",
              "    .dataframe tbody tr th:only-of-type {\n",
              "        vertical-align: middle;\n",
              "    }\n",
              "\n",
              "    .dataframe tbody tr th {\n",
              "        vertical-align: top;\n",
              "    }\n",
              "\n",
              "    .dataframe thead th {\n",
              "        text-align: right;\n",
              "    }\n",
              "</style>\n",
              "<table border=\"1\" class=\"dataframe\">\n",
              "  <thead>\n",
              "    <tr style=\"text-align: right;\">\n",
              "      <th></th>\n",
              "      <th>RANDID</th>\n",
              "      <th>PERIOD</th>\n",
              "      <th>SEX</th>\n",
              "      <th>AGE</th>\n",
              "      <th>CURSMOKE</th>\n",
              "      <th>SYSBP</th>\n",
              "      <th>BMI</th>\n",
              "      <th>DEATH</th>\n",
              "      <th>ANGINA</th>\n",
              "      <th>HOSPMI</th>\n",
              "      <th>CVD</th>\n",
              "    </tr>\n",
              "  </thead>\n",
              "  <tbody>\n",
              "    <tr>\n",
              "      <th>11</th>\n",
              "      <td>11252</td>\n",
              "      <td>3</td>\n",
              "      <td>2</td>\n",
              "      <td>58</td>\n",
              "      <td>1</td>\n",
              "      <td>155.0</td>\n",
              "      <td>24.61</td>\n",
              "      <td>0</td>\n",
              "      <td>0</td>\n",
              "      <td>0</td>\n",
              "      <td>0</td>\n",
              "    </tr>\n",
              "    <tr>\n",
              "      <th>19</th>\n",
              "      <td>12806</td>\n",
              "      <td>3</td>\n",
              "      <td>2</td>\n",
              "      <td>57</td>\n",
              "      <td>1</td>\n",
              "      <td>110.0</td>\n",
              "      <td>22.02</td>\n",
              "      <td>0</td>\n",
              "      <td>0</td>\n",
              "      <td>0</td>\n",
              "      <td>0</td>\n",
              "    </tr>\n",
              "    <tr>\n",
              "      <th>37</th>\n",
              "      <td>24721</td>\n",
              "      <td>3</td>\n",
              "      <td>2</td>\n",
              "      <td>51</td>\n",
              "      <td>1</td>\n",
              "      <td>141.0</td>\n",
              "      <td>24.77</td>\n",
              "      <td>1</td>\n",
              "      <td>0</td>\n",
              "      <td>0</td>\n",
              "      <td>0</td>\n",
              "    </tr>\n",
              "    <tr>\n",
              "      <th>41</th>\n",
              "      <td>33077</td>\n",
              "      <td>3</td>\n",
              "      <td>1</td>\n",
              "      <td>60</td>\n",
              "      <td>1</td>\n",
              "      <td>144.5</td>\n",
              "      <td>22.96</td>\n",
              "      <td>0</td>\n",
              "      <td>0</td>\n",
              "      <td>0</td>\n",
              "      <td>0</td>\n",
              "    </tr>\n",
              "    <tr>\n",
              "      <th>45</th>\n",
              "      <td>34689</td>\n",
              "      <td>3</td>\n",
              "      <td>2</td>\n",
              "      <td>49</td>\n",
              "      <td>1</td>\n",
              "      <td>163.0</td>\n",
              "      <td>31.45</td>\n",
              "      <td>0</td>\n",
              "      <td>0</td>\n",
              "      <td>0</td>\n",
              "      <td>0</td>\n",
              "    </tr>\n",
              "    <tr>\n",
              "      <th>...</th>\n",
              "      <td>...</td>\n",
              "      <td>...</td>\n",
              "      <td>...</td>\n",
              "      <td>...</td>\n",
              "      <td>...</td>\n",
              "      <td>...</td>\n",
              "      <td>...</td>\n",
              "      <td>...</td>\n",
              "      <td>...</td>\n",
              "      <td>...</td>\n",
              "      <td>...</td>\n",
              "    </tr>\n",
              "    <tr>\n",
              "      <th>11586</th>\n",
              "      <td>9961615</td>\n",
              "      <td>3</td>\n",
              "      <td>1</td>\n",
              "      <td>58</td>\n",
              "      <td>1</td>\n",
              "      <td>174.0</td>\n",
              "      <td>23.65</td>\n",
              "      <td>0</td>\n",
              "      <td>0</td>\n",
              "      <td>0</td>\n",
              "      <td>0</td>\n",
              "    </tr>\n",
              "    <tr>\n",
              "      <th>11612</th>\n",
              "      <td>9989287</td>\n",
              "      <td>3</td>\n",
              "      <td>1</td>\n",
              "      <td>63</td>\n",
              "      <td>1</td>\n",
              "      <td>120.0</td>\n",
              "      <td>17.38</td>\n",
              "      <td>1</td>\n",
              "      <td>0</td>\n",
              "      <td>0</td>\n",
              "      <td>0</td>\n",
              "    </tr>\n",
              "    <tr>\n",
              "      <th>11615</th>\n",
              "      <td>9990894</td>\n",
              "      <td>3</td>\n",
              "      <td>2</td>\n",
              "      <td>60</td>\n",
              "      <td>1</td>\n",
              "      <td>205.0</td>\n",
              "      <td>22.37</td>\n",
              "      <td>1</td>\n",
              "      <td>0</td>\n",
              "      <td>0</td>\n",
              "      <td>0</td>\n",
              "    </tr>\n",
              "    <tr>\n",
              "      <th>11618</th>\n",
              "      <td>9993179</td>\n",
              "      <td>3</td>\n",
              "      <td>2</td>\n",
              "      <td>56</td>\n",
              "      <td>1</td>\n",
              "      <td>145.0</td>\n",
              "      <td>21.97</td>\n",
              "      <td>1</td>\n",
              "      <td>0</td>\n",
              "      <td>0</td>\n",
              "      <td>0</td>\n",
              "    </tr>\n",
              "    <tr>\n",
              "      <th>11626</th>\n",
              "      <td>9999312</td>\n",
              "      <td>3</td>\n",
              "      <td>2</td>\n",
              "      <td>50</td>\n",
              "      <td>1</td>\n",
              "      <td>147.0</td>\n",
              "      <td>24.19</td>\n",
              "      <td>0</td>\n",
              "      <td>0</td>\n",
              "      <td>0</td>\n",
              "      <td>0</td>\n",
              "    </tr>\n",
              "  </tbody>\n",
              "</table>\n",
              "<p>1118 rows × 11 columns</p>\n",
              "</div>\n",
              "      <button class=\"colab-df-convert\" onclick=\"convertToInteractive('df-dcd46dcb-2cf0-4887-88b8-e2c77bb07dd2')\"\n",
              "              title=\"Convert this dataframe to an interactive table.\"\n",
              "              style=\"display:none;\">\n",
              "        \n",
              "  <svg xmlns=\"http://www.w3.org/2000/svg\" height=\"24px\"viewBox=\"0 0 24 24\"\n",
              "       width=\"24px\">\n",
              "    <path d=\"M0 0h24v24H0V0z\" fill=\"none\"/>\n",
              "    <path d=\"M18.56 5.44l.94 2.06.94-2.06 2.06-.94-2.06-.94-.94-2.06-.94 2.06-2.06.94zm-11 1L8.5 8.5l.94-2.06 2.06-.94-2.06-.94L8.5 2.5l-.94 2.06-2.06.94zm10 10l.94 2.06.94-2.06 2.06-.94-2.06-.94-.94-2.06-.94 2.06-2.06.94z\"/><path d=\"M17.41 7.96l-1.37-1.37c-.4-.4-.92-.59-1.43-.59-.52 0-1.04.2-1.43.59L10.3 9.45l-7.72 7.72c-.78.78-.78 2.05 0 2.83L4 21.41c.39.39.9.59 1.41.59.51 0 1.02-.2 1.41-.59l7.78-7.78 2.81-2.81c.8-.78.8-2.07 0-2.86zM5.41 20L4 18.59l7.72-7.72 1.47 1.35L5.41 20z\"/>\n",
              "  </svg>\n",
              "      </button>\n",
              "      \n",
              "  <style>\n",
              "    .colab-df-container {\n",
              "      display:flex;\n",
              "      flex-wrap:wrap;\n",
              "      gap: 12px;\n",
              "    }\n",
              "\n",
              "    .colab-df-convert {\n",
              "      background-color: #E8F0FE;\n",
              "      border: none;\n",
              "      border-radius: 50%;\n",
              "      cursor: pointer;\n",
              "      display: none;\n",
              "      fill: #1967D2;\n",
              "      height: 32px;\n",
              "      padding: 0 0 0 0;\n",
              "      width: 32px;\n",
              "    }\n",
              "\n",
              "    .colab-df-convert:hover {\n",
              "      background-color: #E2EBFA;\n",
              "      box-shadow: 0px 1px 2px rgba(60, 64, 67, 0.3), 0px 1px 3px 1px rgba(60, 64, 67, 0.15);\n",
              "      fill: #174EA6;\n",
              "    }\n",
              "\n",
              "    [theme=dark] .colab-df-convert {\n",
              "      background-color: #3B4455;\n",
              "      fill: #D2E3FC;\n",
              "    }\n",
              "\n",
              "    [theme=dark] .colab-df-convert:hover {\n",
              "      background-color: #434B5C;\n",
              "      box-shadow: 0px 1px 3px 1px rgba(0, 0, 0, 0.15);\n",
              "      filter: drop-shadow(0px 1px 2px rgba(0, 0, 0, 0.3));\n",
              "      fill: #FFFFFF;\n",
              "    }\n",
              "  </style>\n",
              "\n",
              "      <script>\n",
              "        const buttonEl =\n",
              "          document.querySelector('#df-dcd46dcb-2cf0-4887-88b8-e2c77bb07dd2 button.colab-df-convert');\n",
              "        buttonEl.style.display =\n",
              "          google.colab.kernel.accessAllowed ? 'block' : 'none';\n",
              "\n",
              "        async function convertToInteractive(key) {\n",
              "          const element = document.querySelector('#df-dcd46dcb-2cf0-4887-88b8-e2c77bb07dd2');\n",
              "          const dataTable =\n",
              "            await google.colab.kernel.invokeFunction('convertToInteractive',\n",
              "                                                     [key], {});\n",
              "          if (!dataTable) return;\n",
              "\n",
              "          const docLinkHtml = 'Like what you see? Visit the ' +\n",
              "            '<a target=\"_blank\" href=https://colab.research.google.com/notebooks/data_table.ipynb>data table notebook</a>'\n",
              "            + ' to learn more about interactive tables.';\n",
              "          element.innerHTML = '';\n",
              "          dataTable['output_type'] = 'display_data';\n",
              "          await google.colab.output.renderOutput(dataTable, element);\n",
              "          const docLink = document.createElement('div');\n",
              "          docLink.innerHTML = docLinkHtml;\n",
              "          element.appendChild(docLink);\n",
              "        }\n",
              "      </script>\n",
              "    </div>\n",
              "  </div>\n",
              "  "
            ]
          },
          "metadata": {},
          "execution_count": 24
        }
      ]
    },
    {
      "cell_type": "code",
      "source": [
        "# Perform a normality test on the \"SYSBP\" data from the smokers, and plot the histogram as well.\n",
        "stats.kstest(df_Smoke['SYSBP'], 'norm')"
      ],
      "metadata": {
        "colab": {
          "base_uri": "https://localhost:8080/"
        },
        "id": "iatJwx7n4oSl",
        "outputId": "593330a7-68a3-4aed-963b-ef6786d5cbe5"
      },
      "execution_count": 25,
      "outputs": [
        {
          "output_type": "execute_result",
          "data": {
            "text/plain": [
              "KstestResult(statistic=1.0, pvalue=0.0)"
            ]
          },
          "metadata": {},
          "execution_count": 25
        }
      ]
    },
    {
      "cell_type": "code",
      "source": [
        "sns.histplot(data=df_Smoke, x='SYSBP')\n",
        "sns.despine()\n",
        "\n",
        "#save the plot\n",
        "plt.savefig(\"/content/figures/SYSBP_smoke.pdf\", bbox_inches='tight')"
      ],
      "metadata": {
        "colab": {
          "base_uri": "https://localhost:8080/",
          "height": 0
        },
        "id": "e2PvlNjZ47x-",
        "outputId": "3f5b6362-a21b-4174-8fa3-fa243858a3bf"
      },
      "execution_count": 26,
      "outputs": [
        {
          "output_type": "display_data",
          "data": {
            "text/plain": [
              "<Figure size 432x288 with 1 Axes>"
            ],
            "image/png": "[encoded data removed]"
          },
          "metadata": {
            "needs_background": "light"
          }
        }
      ]
    },
    {
      "cell_type": "code",
      "source": [
        "# Follow the same step to generate a new dataframe for non-smoker, and a histogram.\n",
        "df_nonSmoke = df_3.loc[df_3['CURSMOKE'] == 0]\n",
        "\n",
        "\n",
        "#save the manipulated dataframe into the \"results\" subdirectory\n",
        "df_nonSmoke.to_csv('/content/results/nonSmoke_df.csv')\n",
        "\n",
        "df_nonSmoke"
      ],
      "metadata": {
        "colab": {
          "base_uri": "https://localhost:8080/",
          "height": 0
        },
        "id": "wTgGZpvOsS6Y",
        "outputId": "ab0a65b7-50cf-44ee-e409-0c4d30ed5812"
      },
      "execution_count": 27,
      "outputs": [
        {
          "output_type": "execute_result",
          "data": {
            "text/plain": [
              "        RANDID  PERIOD  SEX  AGE  CURSMOKE  SYSBP    BMI  DEATH  ANGINA  \\\n",
              "4         6238       3    2   58         0  108.0  28.50      0       0   \n",
              "14       11263       3    2   55         0  180.0  31.17      0       0   \n",
              "22       14367       3    1   64         0  168.0  25.72      0       0   \n",
              "25       16365       3    1   55         0  173.0  29.11      0       0   \n",
              "28       16799       3    2   62         0  120.0  21.98      0       0   \n",
              "...        ...     ...  ...  ...       ...    ...    ...    ...     ...   \n",
              "11597  9969773       3    2   62         0  188.0  34.74      0       1   \n",
              "11600  9973350       3    2   63         0  160.0  25.60      1       0   \n",
              "11603  9978986       3    2   68         0  110.0  24.30      0       0   \n",
              "11606  9982118       3    1   70         0  163.5  25.26      1       0   \n",
              "11623  9998212       3    1   52         0  143.0  25.74      0       0   \n",
              "\n",
              "       HOSPMI  CVD  \n",
              "4           0    0  \n",
              "14          0    1  \n",
              "22          0    0  \n",
              "25          0    0  \n",
              "28          0    0  \n",
              "...       ...  ...  \n",
              "11597       1    1  \n",
              "11600       0    0  \n",
              "11603       0    0  \n",
              "11606       0    1  \n",
              "11623       0    0  \n",
              "\n",
              "[2128 rows x 11 columns]"
            ],
            "text/html": [
              "\n",
              "  <div id=\"df-9d943847-a9f1-4cd9-aeeb-86b3ce4e72b2\">\n",
              "    <div class=\"colab-df-container\">\n",
              "      <div>\n",
              "<style scoped>\n",
              "    .dataframe tbody tr th:only-of-type {\n",
              "        vertical-align: middle;\n",
              "    }\n",
              "\n",
              "    .dataframe tbody tr th {\n",
              "        vertical-align: top;\n",
              "    }\n",
              "\n",
              "    .dataframe thead th {\n",
              "        text-align: right;\n",
              "    }\n",
              "</style>\n",
              "<table border=\"1\" class=\"dataframe\">\n",
              "  <thead>\n",
              "    <tr style=\"text-align: right;\">\n",
              "      <th></th>\n",
              "      <th>RANDID</th>\n",
              "      <th>PERIOD</th>\n",
              "      <th>SEX</th>\n",
              "      <th>AGE</th>\n",
              "      <th>CURSMOKE</th>\n",
              "      <th>SYSBP</th>\n",
              "      <th>BMI</th>\n",
              "      <th>DEATH</th>\n",
              "      <th>ANGINA</th>\n",
              "      <th>HOSPMI</th>\n",
              "      <th>CVD</th>\n",
              "    </tr>\n",
              "  </thead>\n",
              "  <tbody>\n",
              "    <tr>\n",
              "      <th>4</th>\n",
              "      <td>6238</td>\n",
              "      <td>3</td>\n",
              "      <td>2</td>\n",
              "      <td>58</td>\n",
              "      <td>0</td>\n",
              "      <td>108.0</td>\n",
              "      <td>28.50</td>\n",
              "      <td>0</td>\n",
              "      <td>0</td>\n",
              "      <td>0</td>\n",
              "      <td>0</td>\n",
              "    </tr>\n",
              "    <tr>\n",
              "      <th>14</th>\n",
              "      <td>11263</td>\n",
              "      <td>3</td>\n",
              "      <td>2</td>\n",
              "      <td>55</td>\n",
              "      <td>0</td>\n",
              "      <td>180.0</td>\n",
              "      <td>31.17</td>\n",
              "      <td>0</td>\n",
              "      <td>0</td>\n",
              "      <td>0</td>\n",
              "      <td>1</td>\n",
              "    </tr>\n",
              "    <tr>\n",
              "      <th>22</th>\n",
              "      <td>14367</td>\n",
              "      <td>3</td>\n",
              "      <td>1</td>\n",
              "      <td>64</td>\n",
              "      <td>0</td>\n",
              "      <td>168.0</td>\n",
              "      <td>25.72</td>\n",
              "      <td>0</td>\n",
              "      <td>0</td>\n",
              "      <td>0</td>\n",
              "      <td>0</td>\n",
              "    </tr>\n",
              "    <tr>\n",
              "      <th>25</th>\n",
              "      <td>16365</td>\n",
              "      <td>3</td>\n",
              "      <td>1</td>\n",
              "      <td>55</td>\n",
              "      <td>0</td>\n",
              "      <td>173.0</td>\n",
              "      <td>29.11</td>\n",
              "      <td>0</td>\n",
              "      <td>0</td>\n",
              "      <td>0</td>\n",
              "      <td>0</td>\n",
              "    </tr>\n",
              "    <tr>\n",
              "      <th>28</th>\n",
              "      <td>16799</td>\n",
              "      <td>3</td>\n",
              "      <td>2</td>\n",
              "      <td>62</td>\n",
              "      <td>0</td>\n",
              "      <td>120.0</td>\n",
              "      <td>21.98</td>\n",
              "      <td>0</td>\n",
              "      <td>0</td>\n",
              "      <td>0</td>\n",
              "      <td>0</td>\n",
              "    </tr>\n",
              "    <tr>\n",
              "      <th>...</th>\n",
              "      <td>...</td>\n",
              "      <td>...</td>\n",
              "      <td>...</td>\n",
              "      <td>...</td>\n",
              "      <td>...</td>\n",
              "      <td>...</td>\n",
              "      <td>...</td>\n",
              "      <td>...</td>\n",
              "      <td>...</td>\n",
              "      <td>...</td>\n",
              "      <td>...</td>\n",
              "    </tr>\n",
              "    <tr>\n",
              "      <th>11597</th>\n",
              "      <td>9969773</td>\n",
              "      <td>3</td>\n",
              "      <td>2</td>\n",
              "      <td>62</td>\n",
              "      <td>0</td>\n",
              "      <td>188.0</td>\n",
              "      <td>34.74</td>\n",
              "      <td>0</td>\n",
              "      <td>1</td>\n",
              "      <td>1</td>\n",
              "      <td>1</td>\n",
              "    </tr>\n",
              "    <tr>\n",
              "      <th>11600</th>\n",
              "      <td>9973350</td>\n",
              "      <td>3</td>\n",
              "      <td>2</td>\n",
              "      <td>63</td>\n",
              "      <td>0</td>\n",
              "      <td>160.0</td>\n",
              "      <td>25.60</td>\n",
              "      <td>1</td>\n",
              "      <td>0</td>\n",
              "      <td>0</td>\n",
              "      <td>0</td>\n",
              "    </tr>\n",
              "    <tr>\n",
              "      <th>11603</th>\n",
              "      <td>9978986</td>\n",
              "      <td>3</td>\n",
              "      <td>2</td>\n",
              "      <td>68</td>\n",
              "      <td>0</td>\n",
              "      <td>110.0</td>\n",
              "      <td>24.30</td>\n",
              "      <td>0</td>\n",
              "      <td>0</td>\n",
              "      <td>0</td>\n",
              "      <td>0</td>\n",
              "    </tr>\n",
              "    <tr>\n",
              "      <th>11606</th>\n",
              "      <td>9982118</td>\n",
              "      <td>3</td>\n",
              "      <td>1</td>\n",
              "      <td>70</td>\n",
              "      <td>0</td>\n",
              "      <td>163.5</td>\n",
              "      <td>25.26</td>\n",
              "      <td>1</td>\n",
              "      <td>0</td>\n",
              "      <td>0</td>\n",
              "      <td>1</td>\n",
              "    </tr>\n",
              "    <tr>\n",
              "      <th>11623</th>\n",
              "      <td>9998212</td>\n",
              "      <td>3</td>\n",
              "      <td>1</td>\n",
              "      <td>52</td>\n",
              "      <td>0</td>\n",
              "      <td>143.0</td>\n",
              "      <td>25.74</td>\n",
              "      <td>0</td>\n",
              "      <td>0</td>\n",
              "      <td>0</td>\n",
              "      <td>0</td>\n",
              "    </tr>\n",
              "  </tbody>\n",
              "</table>\n",
              "<p>2128 rows × 11 columns</p>\n",
              "</div>\n",
              "      <button class=\"colab-df-convert\" onclick=\"convertToInteractive('df-9d943847-a9f1-4cd9-aeeb-86b3ce4e72b2')\"\n",
              "              title=\"Convert this dataframe to an interactive table.\"\n",
              "              style=\"display:none;\">\n",
              "        \n",
              "  <svg xmlns=\"http://www.w3.org/2000/svg\" height=\"24px\"viewBox=\"0 0 24 24\"\n",
              "       width=\"24px\">\n",
              "    <path d=\"M0 0h24v24H0V0z\" fill=\"none\"/>\n",
              "    <path d=\"M18.56 5.44l.94 2.06.94-2.06 2.06-.94-2.06-.94-.94-2.06-.94 2.06-2.06.94zm-11 1L8.5 8.5l.94-2.06 2.06-.94-2.06-.94L8.5 2.5l-.94 2.06-2.06.94zm10 10l.94 2.06.94-2.06 2.06-.94-2.06-.94-.94-2.06-.94 2.06-2.06.94z\"/><path d=\"M17.41 7.96l-1.37-1.37c-.4-.4-.92-.59-1.43-.59-.52 0-1.04.2-1.43.59L10.3 9.45l-7.72 7.72c-.78.78-.78 2.05 0 2.83L4 21.41c.39.39.9.59 1.41.59.51 0 1.02-.2 1.41-.59l7.78-7.78 2.81-2.81c.8-.78.8-2.07 0-2.86zM5.41 20L4 18.59l7.72-7.72 1.47 1.35L5.41 20z\"/>\n",
              "  </svg>\n",
              "      </button>\n",
              "      \n",
              "  <style>\n",
              "    .colab-df-container {\n",
              "      display:flex;\n",
              "      flex-wrap:wrap;\n",
              "      gap: 12px;\n",
              "    }\n",
              "\n",
              "    .colab-df-convert {\n",
              "      background-color: #E8F0FE;\n",
              "      border: none;\n",
              "      border-radius: 50%;\n",
              "      cursor: pointer;\n",
              "      display: none;\n",
              "      fill: #1967D2;\n",
              "      height: 32px;\n",
              "      padding: 0 0 0 0;\n",
              "      width: 32px;\n",
              "    }\n",
              "\n",
              "    .colab-df-convert:hover {\n",
              "      background-color: #E2EBFA;\n",
              "      box-shadow: 0px 1px 2px rgba(60, 64, 67, 0.3), 0px 1px 3px 1px rgba(60, 64, 67, 0.15);\n",
              "      fill: #174EA6;\n",
              "    }\n",
              "\n",
              "    [theme=dark] .colab-df-convert {\n",
              "      background-color: #3B4455;\n",
              "      fill: #D2E3FC;\n",
              "    }\n",
              "\n",
              "    [theme=dark] .colab-df-convert:hover {\n",
              "      background-color: #434B5C;\n",
              "      box-shadow: 0px 1px 3px 1px rgba(0, 0, 0, 0.15);\n",
              "      filter: drop-shadow(0px 1px 2px rgba(0, 0, 0, 0.3));\n",
              "      fill: #FFFFFF;\n",
              "    }\n",
              "  </style>\n",
              "\n",
              "      <script>\n",
              "        const buttonEl =\n",
              "          document.querySelector('#df-9d943847-a9f1-4cd9-aeeb-86b3ce4e72b2 button.colab-df-convert');\n",
              "        buttonEl.style.display =\n",
              "          google.colab.kernel.accessAllowed ? 'block' : 'none';\n",
              "\n",
              "        async function convertToInteractive(key) {\n",
              "          const element = document.querySelector('#df-9d943847-a9f1-4cd9-aeeb-86b3ce4e72b2');\n",
              "          const dataTable =\n",
              "            await google.colab.kernel.invokeFunction('convertToInteractive',\n",
              "                                                     [key], {});\n",
              "          if (!dataTable) return;\n",
              "\n",
              "          const docLinkHtml = 'Like what you see? Visit the ' +\n",
              "            '<a target=\"_blank\" href=https://colab.research.google.com/notebooks/data_table.ipynb>data table notebook</a>'\n",
              "            + ' to learn more about interactive tables.';\n",
              "          element.innerHTML = '';\n",
              "          dataTable['output_type'] = 'display_data';\n",
              "          await google.colab.output.renderOutput(dataTable, element);\n",
              "          const docLink = document.createElement('div');\n",
              "          docLink.innerHTML = docLinkHtml;\n",
              "          element.appendChild(docLink);\n",
              "        }\n",
              "      </script>\n",
              "    </div>\n",
              "  </div>\n",
              "  "
            ]
          },
          "metadata": {},
          "execution_count": 27
        }
      ]
    },
    {
      "cell_type": "code",
      "source": [
        "stats.kstest(df_nonSmoke['SYSBP'], 'norm')"
      ],
      "metadata": {
        "colab": {
          "base_uri": "https://localhost:8080/"
        },
        "id": "6RUNcNci5FNX",
        "outputId": "60a2f0d8-8219-420e-c6f0-7c77a05253b8"
      },
      "execution_count": 28,
      "outputs": [
        {
          "output_type": "execute_result",
          "data": {
            "text/plain": [
              "KstestResult(statistic=1.0, pvalue=0.0)"
            ]
          },
          "metadata": {},
          "execution_count": 28
        }
      ]
    },
    {
      "cell_type": "code",
      "source": [
        "sns.histplot(data=df_nonSmoke, x='SYSBP')\n",
        "sns.despine()\n",
        "\n",
        "#save the plot\n",
        "plt.savefig(\"/content/figures/SYSBP_nonsmoke.pdf\", bbox_inches='tight')"
      ],
      "metadata": {
        "colab": {
          "base_uri": "https://localhost:8080/",
          "height": 0
        },
        "id": "gE6qC4oL5HQK",
        "outputId": "9f6ea55d-f0e1-4a9d-d5ef-ccac2ffcdda2"
      },
      "execution_count": 29,
      "outputs": [
        {
          "output_type": "display_data",
          "data": {
            "text/plain": [
              "<Figure size 432x288 with 1 Axes>"
            ],
            "image/png": "[encoded data removed]"
          },
          "metadata": {
            "needs_background": "light"
          }
        }
      ]
    },
    {
      "cell_type": "markdown",
      "source": [
        "# ***Based on the outputs from above, we can conclude that the SYSBP data from both smokers and non-smokers are not normally distributed, with p values both less than 0.01, we reject the null hypothesis.And we should perform non-parametric indepent samples test, namely Mann-Whitney U test to address our question.***"
      ],
      "metadata": {
        "id": "QS-4UJRL5fDi"
      }
    },
    {
      "cell_type": "markdown",
      "source": [
        "$$ H_0: M1 = M2 $$\n",
        "$$ H_1: M1 > M2 $$"
      ],
      "metadata": {
        "id": "xetdEk1LKRAE"
      }
    },
    {
      "cell_type": "code",
      "source": [
        "#Perform the Mann-Whitney U Test\n",
        "stat, p_value = stats.mannwhitneyu(x = df_Smoke['SYSBP'],y = df_nonSmoke['SYSBP'], alternative = 'greater')\n",
        "print(f\"Mann-Whitney U Test Statistic: {stat}\")\n",
        "print(f\"P-value: {p_value}\")\n",
        "\n",
        "#Level of significance is 0.05\n",
        "alpha = 0.05\n",
        "\n",
        "#Conclusion\n",
        "if p_value < alpha:\n",
        "  print('Reject Null Hypothesis (Significant different between two samples')\n",
        "else:\n",
        "    print('Do not reject Null Hypothesis(No significant between two samples)')"
      ],
      "metadata": {
        "colab": {
          "base_uri": "https://localhost:8080/"
        },
        "id": "7zSstrtbjk1U",
        "outputId": "cdfdd877-5a47-4632-a731-26141a5cb898"
      },
      "execution_count": 30,
      "outputs": [
        {
          "output_type": "stream",
          "name": "stdout",
          "text": [
            "Mann-Whitney U Test Statistic: 999131.5\n",
            "P-value: 0.9999999999999696\n",
            "Do not reject Null Hypothesis(No significant between two samples)\n"
          ]
        }
      ]
    },
    {
      "cell_type": "markdown",
      "source": [
        "# ***2. For this part, we want to analyze if smoking has an association with CVD***"
      ],
      "metadata": {
        "id": "6Ups9XQgIU3w"
      }
    },
    {
      "cell_type": "markdown",
      "source": [
        "$$ H_0: No\\ association\\ between\\ smoking\\ and\\ CVD $$\n",
        "$$ H_1: Association\\ between\\ smoking\\ and\\ CVD $$"
      ],
      "metadata": {
        "id": "ffVWZBpPJS15"
      }
    },
    {
      "cell_type": "code",
      "source": [
        "# Create a matrix\n",
        "contingencyTable = pd.crosstab(df_3.CURSMOKE,df.CVD,margins=True)\n",
        "contingencyTable"
      ],
      "metadata": {
        "colab": {
          "base_uri": "https://localhost:8080/",
          "height": 175
        },
        "id": "zg_47E9JIkRb",
        "outputId": "8cb9194c-10e4-4c4f-dbe5-1f8a24d2ed63"
      },
      "execution_count": 31,
      "outputs": [
        {
          "output_type": "execute_result",
          "data": {
            "text/plain": [
              "CVD          0    1   All\n",
              "CURSMOKE                 \n",
              "0         1635  493  2128\n",
              "1          852  266  1118\n",
              "All       2487  759  3246"
            ],
            "text/html": [
              "\n",
              "  <div id=\"df-3b692288-6297-4850-882b-1e55b1feb060\">\n",
              "    <div class=\"colab-df-container\">\n",
              "      <div>\n",
              "<style scoped>\n",
              "    .dataframe tbody tr th:only-of-type {\n",
              "        vertical-align: middle;\n",
              "    }\n",
              "\n",
              "    .dataframe tbody tr th {\n",
              "        vertical-align: top;\n",
              "    }\n",
              "\n",
              "    .dataframe thead th {\n",
              "        text-align: right;\n",
              "    }\n",
              "</style>\n",
              "<table border=\"1\" class=\"dataframe\">\n",
              "  <thead>\n",
              "    <tr style=\"text-align: right;\">\n",
              "      <th>CVD</th>\n",
              "      <th>0</th>\n",
              "      <th>1</th>\n",
              "      <th>All</th>\n",
              "    </tr>\n",
              "    <tr>\n",
              "      <th>CURSMOKE</th>\n",
              "      <th></th>\n",
              "      <th></th>\n",
              "      <th></th>\n",
              "    </tr>\n",
              "  </thead>\n",
              "  <tbody>\n",
              "    <tr>\n",
              "      <th>0</th>\n",
              "      <td>1635</td>\n",
              "      <td>493</td>\n",
              "      <td>2128</td>\n",
              "    </tr>\n",
              "    <tr>\n",
              "      <th>1</th>\n",
              "      <td>852</td>\n",
              "      <td>266</td>\n",
              "      <td>1118</td>\n",
              "    </tr>\n",
              "    <tr>\n",
              "      <th>All</th>\n",
              "      <td>2487</td>\n",
              "      <td>759</td>\n",
              "      <td>3246</td>\n",
              "    </tr>\n",
              "  </tbody>\n",
              "</table>\n",
              "</div>\n",
              "      <button class=\"colab-df-convert\" onclick=\"convertToInteractive('df-3b692288-6297-4850-882b-1e55b1feb060')\"\n",
              "              title=\"Convert this dataframe to an interactive table.\"\n",
              "              style=\"display:none;\">\n",
              "        \n",
              "  <svg xmlns=\"http://www.w3.org/2000/svg\" height=\"24px\"viewBox=\"0 0 24 24\"\n",
              "       width=\"24px\">\n",
              "    <path d=\"M0 0h24v24H0V0z\" fill=\"none\"/>\n",
              "    <path d=\"M18.56 5.44l.94 2.06.94-2.06 2.06-.94-2.06-.94-.94-2.06-.94 2.06-2.06.94zm-11 1L8.5 8.5l.94-2.06 2.06-.94-2.06-.94L8.5 2.5l-.94 2.06-2.06.94zm10 10l.94 2.06.94-2.06 2.06-.94-2.06-.94-.94-2.06-.94 2.06-2.06.94z\"/><path d=\"M17.41 7.96l-1.37-1.37c-.4-.4-.92-.59-1.43-.59-.52 0-1.04.2-1.43.59L10.3 9.45l-7.72 7.72c-.78.78-.78 2.05 0 2.83L4 21.41c.39.39.9.59 1.41.59.51 0 1.02-.2 1.41-.59l7.78-7.78 2.81-2.81c.8-.78.8-2.07 0-2.86zM5.41 20L4 18.59l7.72-7.72 1.47 1.35L5.41 20z\"/>\n",
              "  </svg>\n",
              "      </button>\n",
              "      \n",
              "  <style>\n",
              "    .colab-df-container {\n",
              "      display:flex;\n",
              "      flex-wrap:wrap;\n",
              "      gap: 12px;\n",
              "    }\n",
              "\n",
              "    .colab-df-convert {\n",
              "      background-color: #E8F0FE;\n",
              "      border: none;\n",
              "      border-radius: 50%;\n",
              "      cursor: pointer;\n",
              "      display: none;\n",
              "      fill: #1967D2;\n",
              "      height: 32px;\n",
              "      padding: 0 0 0 0;\n",
              "      width: 32px;\n",
              "    }\n",
              "\n",
              "    .colab-df-convert:hover {\n",
              "      background-color: #E2EBFA;\n",
              "      box-shadow: 0px 1px 2px rgba(60, 64, 67, 0.3), 0px 1px 3px 1px rgba(60, 64, 67, 0.15);\n",
              "      fill: #174EA6;\n",
              "    }\n",
              "\n",
              "    [theme=dark] .colab-df-convert {\n",
              "      background-color: #3B4455;\n",
              "      fill: #D2E3FC;\n",
              "    }\n",
              "\n",
              "    [theme=dark] .colab-df-convert:hover {\n",
              "      background-color: #434B5C;\n",
              "      box-shadow: 0px 1px 3px 1px rgba(0, 0, 0, 0.15);\n",
              "      filter: drop-shadow(0px 1px 2px rgba(0, 0, 0, 0.3));\n",
              "      fill: #FFFFFF;\n",
              "    }\n",
              "  </style>\n",
              "\n",
              "      <script>\n",
              "        const buttonEl =\n",
              "          document.querySelector('#df-3b692288-6297-4850-882b-1e55b1feb060 button.colab-df-convert');\n",
              "        buttonEl.style.display =\n",
              "          google.colab.kernel.accessAllowed ? 'block' : 'none';\n",
              "\n",
              "        async function convertToInteractive(key) {\n",
              "          const element = document.querySelector('#df-3b692288-6297-4850-882b-1e55b1feb060');\n",
              "          const dataTable =\n",
              "            await google.colab.kernel.invokeFunction('convertToInteractive',\n",
              "                                                     [key], {});\n",
              "          if (!dataTable) return;\n",
              "\n",
              "          const docLinkHtml = 'Like what you see? Visit the ' +\n",
              "            '<a target=\"_blank\" href=https://colab.research.google.com/notebooks/data_table.ipynb>data table notebook</a>'\n",
              "            + ' to learn more about interactive tables.';\n",
              "          element.innerHTML = '';\n",
              "          dataTable['output_type'] = 'display_data';\n",
              "          await google.colab.output.renderOutput(dataTable, element);\n",
              "          const docLink = document.createElement('div');\n",
              "          docLink.innerHTML = docLinkHtml;\n",
              "          element.appendChild(docLink);\n",
              "        }\n",
              "      </script>\n",
              "    </div>\n",
              "  </div>\n",
              "  "
            ]
          },
          "metadata": {},
          "execution_count": 31
        }
      ]
    },
    {
      "cell_type": "code",
      "source": [
        "#Perform Pearson Chi-square test\n",
        "# Get table without totals\n",
        "from scipy.stats import chi2_contingency\n",
        "  \n",
        "# defining the table\n",
        "data = [[1635, 493], [852, 266]]\n",
        "stat, p, dof, expected = chi2_contingency(data)\n",
        "  \n",
        "# interpret p-value\n",
        "alpha = 0.05\n",
        "print(\"p value is \" + str(p))\n",
        "if p <= alpha:\n",
        "    print('Dependent (reject H0)')\n",
        "else:\n",
        "    print('Independent (H0 holds true)')"
      ],
      "metadata": {
        "colab": {
          "base_uri": "https://localhost:8080/"
        },
        "id": "Lxa3-deCK8hN",
        "outputId": "255fec59-2a98-4ced-ef9d-b8260cb524a4"
      },
      "execution_count": 32,
      "outputs": [
        {
          "output_type": "stream",
          "name": "stdout",
          "text": [
            "p value is 0.7216517872905039\n",
            "Independent (H0 holds true)\n"
          ]
        }
      ]
    },
    {
      "cell_type": "markdown",
      "source": [
        "###**Publication on GitHub**"
      ],
      "metadata": {
        "id": "H-67aMQ3WBxn"
      }
    },
    {
      "cell_type": "markdown",
      "source": [
        "Before git-push the whole repository to github, first download the ipynb file and upload it into the code directory"
      ],
      "metadata": {
        "id": "3FFdOWYDXmj2"
      }
    },
    {
      "cell_type": "code",
      "source": [
        "# download the file and upload it to code subdirectory"
      ],
      "metadata": {
        "id": "xCwLOgzEXmF5"
      },
      "execution_count": 33,
      "outputs": []
    },
    {
      "cell_type": "code",
      "source": [
        "# add all the changes to a imaginary staging area\n",
        "\n"
      ],
      "metadata": {
        "id": "0SZywCFdWE4E",
        "colab": {
          "base_uri": "https://localhost:8080/"
        },
        "outputId": "dcf23af0-fe43-40f7-b917-612566e9411e"
      },
      "execution_count": 34,
      "outputs": [
        {
          "output_type": "stream",
          "name": "stderr",
          "text": [
            "UsageError: %%bash is a cell magic, but the cell body is empty.\n"
          ]
        }
      ]
    },
    {
      "cell_type": "code",
      "source": [
        "\n"
      ],
      "metadata": {
        "id": "OP1uMoptbTBX"
      },
      "execution_count": null,
      "outputs": []
    },
    {
      "cell_type": "markdown",
      "source": [
        "Generate a private SSH key for reuse."
      ],
      "metadata": {
        "id": "3LbBUpI7bWrP"
      }
    },
    {
      "cell_type": "code",
      "source": [
        "\n"
      ],
      "metadata": {
        "id": "tzmWBXJTbTxi"
      },
      "execution_count": null,
      "outputs": []
    },
    {
      "cell_type": "markdown",
      "source": [
        "install the key with the following code-block."
      ],
      "metadata": {
        "id": "XalT92nibf-x"
      }
    },
    {
      "cell_type": "code",
      "source": [],
      "metadata": {
        "id": "2hmktRcwbhEk"
      },
      "execution_count": null,
      "outputs": []
    },
    {
      "cell_type": "markdown",
      "source": [
        "Generate and register a \"keyhole\" (public key)."
      ],
      "metadata": {
        "id": "TbSPF7YVbnYN"
      }
    },
    {
      "cell_type": "code",
      "source": [
        "\n"
      ],
      "metadata": {
        "id": "yZs1Y6Ynbjc-"
      },
      "execution_count": null,
      "outputs": []
    },
    {
      "cell_type": "markdown",
      "source": [
        "verify the key-keyhole pair"
      ],
      "metadata": {
        "id": "IFfC9B67cBC7"
      }
    },
    {
      "cell_type": "code",
      "source": [
        "\n"
      ],
      "metadata": {
        "id": "aC6v8RgdcENQ"
      },
      "execution_count": null,
      "outputs": []
    },
    {
      "cell_type": "markdown",
      "source": [
        "Paste the code from the previous section to push the repository in this notebook to GitHub."
      ],
      "metadata": {
        "id": "MJDckITgcMVU"
      }
    },
    {
      "cell_type": "code",
      "source": [
        "\n"
      ],
      "metadata": {
        "id": "OXgwGNcxcG4W"
      },
      "execution_count": null,
      "outputs": []
    },
    {
      "cell_type": "code",
      "source": [
        "\n"
      ],
      "metadata": {
        "id": "s8RBwIOZcPQU"
      },
      "execution_count": null,
      "outputs": []
    },
    {
      "cell_type": "code",
      "source": [
        "\n"
      ],
      "metadata": {
        "id": "M9QY9mwUcR99"
      },
      "execution_count": null,
      "outputs": []
    },
    {
      "cell_type": "code",
      "source": [
        "\n"
      ],
      "metadata": {
        "id": "NFCRekG3cT2U"
      },
      "execution_count": null,
      "outputs": []
    },
    {
      "cell_type": "code",
      "source": [
        "\n"
      ],
      "metadata": {
        "id": "TWUCHJvOcVo4"
      },
      "execution_count": null,
      "outputs": []
    },
    {
      "cell_type": "code",
      "source": [],
      "metadata": {
        "id": "VnrWsmErcXiv"
      },
      "execution_count": null,
      "outputs": []
    },
    {
      "cell_type": "markdown",
      "source": [
        "**do commit in order to successfully push it to the github repo**"
      ],
      "metadata": {
        "id": "W3T8bYCcceNE"
      }
    },
    {
      "cell_type": "code",
      "source": [],
      "metadata": {
        "id": "vMQdn6Phce2d"
      },
      "execution_count": null,
      "outputs": []
    },
    {
      "cell_type": "code",
      "source": [
        "\n"
      ],
      "metadata": {
        "id": "j9yQmn-Rcfc-"
      },
      "execution_count": null,
      "outputs": []
    },
    {
      "cell_type": "markdown",
      "source": [
        "Repo link:"
      ],
      "metadata": {
        "id": "7aV6sfg9gDfP"
      }
    },
    {
      "cell_type": "markdown",
      "source": [
        "#"
      ],
      "metadata": {
        "id": "ADPx3jXGZr7t"
      }
    }
  ]
}